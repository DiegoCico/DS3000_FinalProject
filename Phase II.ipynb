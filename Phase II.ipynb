{
 "cells": [
  {
   "cell_type": "markdown",
   "metadata": {},
   "source": [
    "# Phase II: Data Curation, Exploratory Analysis and Plotting\n",
    "## Stock Market Predictor\n",
    "\n",
    "### Names: Diego Cicotoste, Ariv Ahuja, Salma Elmosallamy, Rithik Raghuraman"
   ]
  },
  {
   "cell_type": "markdown",
   "metadata": {},
   "source": [
    "# Introduction \n",
    "\n",
    "How does the stock market work? how can you predict the stock market? what tools can you use? The stock market can seem complex and unpredictable, some would even say gambeling. One of the hardest challenges is making educated or informed decisions. The goal of this project is to tackle the uncertainty and help, stock traders make better decision on wether a stock is tradable or not. Wether to buy or sell. I would use past historical trends to make educated predictions on how the stock market would react."
   ]
  },
  {
   "cell_type": "markdown",
   "metadata": {},
   "source": [
    "### **1. Data Retrieval**  \n",
    "- We used the **`yfinance` API** to retrieve daily historical **Open, High, Low, Close (OHLC)** prices and **volume data** for **S&P 500 stocks**, focusing on **Amazon (AMZN)** for the **past year**.\n",
    "- The retrieved data includes essential market metrics that will serve as the foundation for feature engineering.\n",
    "\n",
    "---\n",
    "\n",
    "### **2. Data Cleaning and Processing**\n",
    "\n",
    "#### **Handling Missing Data**  \n",
    "- No data was missing after inspection\n",
    "\n",
    "#### **Feature Engineering: Technical Indicators**  \n",
    "We calculated several key **technical indicators** to enrich the dataset:\n",
    "  - **RSI (Relative Strength Index)**: Momentum indicator over 14 days.\n",
    "  - **VWAP (Volume Weighted Average Price)**: Measures the average trading price weighted by volume.\n",
    "  - **EMA (Exponential Moving Average)**: Captures the smoothed trend over 20 days.\n",
    "  - **ADX (Average Directional Index)**: Quantifies trend strength.\n",
    "\n",
    "#### **More Features: Sentiment Analysis from News Articles**  \n",
    "- We fetched relevant **news articles** using **NewsAPI** for the same period as the stock data.\n",
    "- **VADER Sentiment Analysis** was used to calculate **compound sentiment scores** for each article.\n",
    "- Sentiment scores were **aggregated by date** to align with the stock OHLC data.\n",
    "\n",
    "#### **Data Alignment and Merging**  \n",
    "- We ensured **alignment** between **OHLC data, technical indicators, log returns, and sentiment scores** using date-based indices.\n",
    "- The combined DataFrame was prepared, with all relevant features available for further analysis and modeling.\n",
    "\n",
    "---\n",
    "\n",
    "### **3. Visualization of the Cleaned Data**\n",
    "\n",
    "We visualized the **cleaned and processed dataset** to understand key trends and patterns:\n",
    "\n",
    "1. **Price Trends and Indicators**:\n",
    "   - **OHLC Candlestick Plots**: Show stock price movements.\n",
    "   - **Overlaying VWAP and EMA**: To track trends and identify support/resistance levels.\n",
    "   - **RSI and ADX Line Plots**: Visualize momentum and trend strength over time.\n",
    "\n",
    "2. **Volume Analysis**:\n",
    "   - **Normalized Volume**: Visualized to detect significant changes in trading activity.\n",
    "\n",
    "3. **Sentiment Trends**:\n",
    "   - **Sentiment Score Line Chart**: Displays how public sentiment fluctuates over time.\n",
    "   - **Overlay of Sentiment with Stock Price**: To observe correlations between sentiment and price movements.\n"
   ]
  },
  {
   "cell_type": "code",
   "execution_count": 52,
   "metadata": {},
   "outputs": [],
   "source": [
    "import yfinance as yf\n",
    "import pandas as pd\n",
    "\n",
    "def get_stock_data(symbol: str, period: str, interval: str = '1d') -> pd.DataFrame:\n",
    "    \"\"\"\n",
    "    Retrieve stock price data for a given symbol, time period, and interval.\n",
    "    Returns the stock prices as a pandas DataFrame.\n",
    "\n",
    "    Parameters:\n",
    "        symbol (str): The ticker symbol of the stock (e.g., 'AAPL').\n",
    "        period (str): The period to retrieve data (e.g., '1y', '6mo', '5d').\n",
    "        interval (str): The data interval (e.g., '1d', '1wk', '1mo').\n",
    "\n",
    "    Returns:\n",
    "        pd.DataFrame: DataFrame containing historical stock prices.\n",
    "    \"\"\"\n",
    "    # Fetch data from Yahoo Finance\n",
    "    stock_data = yf.download(symbol, period=period, interval=interval)\n",
    "\n",
    "    return stock_data"
   ]
  },
  {
   "cell_type": "code",
   "execution_count": 54,
   "metadata": {},
   "outputs": [],
   "source": [
    "import numpy as np\n",
    "\n",
    "def calculate_log_returns(close: np.ndarray) -> np.ndarray:\n",
    "    \"\"\"\n",
    "    Calculate the log returns from the close prices.\n",
    "    \n",
    "    Parameters:\n",
    "        close (np.ndarray): Array of closing prices.\n",
    "    \n",
    "    Returns:\n",
    "        np.ndarray: Array of log returns.\n",
    "    \"\"\"\n",
    "    log_returns = np.log(close / close.shift(1))\n",
    "    \n",
    "    return log_returns\n"
   ]
  },
  {
   "cell_type": "code",
   "execution_count": 56,
   "metadata": {},
   "outputs": [],
   "source": [
    "import pandas_ta as ta\n",
    "\n",
    "def calculate_technical_indicators(df: pd.DataFrame) -> dict:\n",
    "    \"\"\"\n",
    "    Calculate technical indicators and return them as NumPy arrays.\n",
    "\n",
    "    Parameters:\n",
    "        df (pd.DataFrame): DataFrame containing historical stock prices.\n",
    "\n",
    "    Returns:\n",
    "        dict: A dictionary with technical indicators as NumPy arrays.\n",
    "    \"\"\"\n",
    "    indicators = {}\n",
    "\n",
    "    # Calculate RSI (Relative Strength Index)\n",
    "    indicators['rsi'] = ta.rsi(df['Close'], length=20).to_numpy()\n",
    "\n",
    "    # Calculate 20-day Exponential Moving Average (EMA)\n",
    "    indicators['ema'] = ta.ema(df['Close'], length=20).to_numpy()\n",
    "\n",
    "    # Calculate ADX (Average Directional Index)\n",
    "    adx_df = ta.adx(df['High'], df['Low'], df['Close'], length=20)\n",
    "    indicators['adx'] = adx_df['ADX_20'].to_numpy()\n",
    "\n",
    "    # Calculate VWAP (Volume Weighted Average Price)\n",
    "    vwap_series = ta.vwap(df['High'], df['Low'], df['Close'], df['Volume'])\n",
    "    indicators['vwap'] = vwap_series.to_numpy()\n",
    "\n",
    "    # Calculate normalized volume\n",
    "    indicators['normalized_volume'] = (df['Volume'] / df['Volume'].rolling(window=20).mean()).to_numpy()\n",
    "\n",
    "    return indicators"
   ]
  },
  {
   "cell_type": "code",
   "execution_count": 58,
   "metadata": {},
   "outputs": [
    {
     "name": "stdout",
     "output_type": "stream",
     "text": [
      "Requirement already satisfied: undetected-chromedriver in /Users/salmaelmosallamy/anaconda3/lib/python3.10/site-packages (3.5.5)\n",
      "Requirement already satisfied: selenium>=4.9.0 in /Users/salmaelmosallamy/anaconda3/lib/python3.10/site-packages (from undetected-chromedriver) (4.25.0)\n",
      "Requirement already satisfied: requests in /Users/salmaelmosallamy/anaconda3/lib/python3.10/site-packages (from undetected-chromedriver) (2.32.3)\n",
      "Requirement already satisfied: websockets in /Users/salmaelmosallamy/anaconda3/lib/python3.10/site-packages (from undetected-chromedriver) (13.1)\n",
      "Requirement already satisfied: urllib3<3,>=1.26 in /Users/salmaelmosallamy/anaconda3/lib/python3.10/site-packages (from urllib3[socks]<3,>=1.26->selenium>=4.9.0->undetected-chromedriver) (2.2.3)\n",
      "Requirement already satisfied: trio~=0.17 in /Users/salmaelmosallamy/anaconda3/lib/python3.10/site-packages (from selenium>=4.9.0->undetected-chromedriver) (0.27.0)\n",
      "Requirement already satisfied: trio-websocket~=0.9 in /Users/salmaelmosallamy/anaconda3/lib/python3.10/site-packages (from selenium>=4.9.0->undetected-chromedriver) (0.11.1)\n",
      "Requirement already satisfied: certifi>=2021.10.8 in /Users/salmaelmosallamy/anaconda3/lib/python3.10/site-packages (from selenium>=4.9.0->undetected-chromedriver) (2024.8.30)\n",
      "Requirement already satisfied: typing_extensions~=4.9 in /Users/salmaelmosallamy/anaconda3/lib/python3.10/site-packages (from selenium>=4.9.0->undetected-chromedriver) (4.12.2)\n",
      "Requirement already satisfied: websocket-client~=1.8 in /Users/salmaelmosallamy/anaconda3/lib/python3.10/site-packages (from selenium>=4.9.0->undetected-chromedriver) (1.8.0)\n",
      "Requirement already satisfied: charset-normalizer<4,>=2 in /Users/salmaelmosallamy/anaconda3/lib/python3.10/site-packages (from requests->undetected-chromedriver) (3.4.0)\n",
      "Requirement already satisfied: idna<4,>=2.5 in /Users/salmaelmosallamy/anaconda3/lib/python3.10/site-packages (from requests->undetected-chromedriver) (3.10)\n",
      "Requirement already satisfied: attrs>=23.2.0 in /Users/salmaelmosallamy/anaconda3/lib/python3.10/site-packages (from trio~=0.17->selenium>=4.9.0->undetected-chromedriver) (24.2.0)\n",
      "Requirement already satisfied: sortedcontainers in /Users/salmaelmosallamy/anaconda3/lib/python3.10/site-packages (from trio~=0.17->selenium>=4.9.0->undetected-chromedriver) (2.4.0)\n",
      "Requirement already satisfied: outcome in /Users/salmaelmosallamy/anaconda3/lib/python3.10/site-packages (from trio~=0.17->selenium>=4.9.0->undetected-chromedriver) (1.3.0.post0)\n",
      "Requirement already satisfied: sniffio>=1.3.0 in /Users/salmaelmosallamy/anaconda3/lib/python3.10/site-packages (from trio~=0.17->selenium>=4.9.0->undetected-chromedriver) (1.3.1)\n",
      "Requirement already satisfied: exceptiongroup in /Users/salmaelmosallamy/anaconda3/lib/python3.10/site-packages (from trio~=0.17->selenium>=4.9.0->undetected-chromedriver) (1.0.4)\n",
      "Requirement already satisfied: wsproto>=0.14 in /Users/salmaelmosallamy/anaconda3/lib/python3.10/site-packages (from trio-websocket~=0.9->selenium>=4.9.0->undetected-chromedriver) (1.2.0)\n",
      "Requirement already satisfied: pysocks!=1.5.7,<2.0,>=1.5.6 in /Users/salmaelmosallamy/anaconda3/lib/python3.10/site-packages (from urllib3[socks]<3,>=1.26->selenium>=4.9.0->undetected-chromedriver) (1.7.1)\n",
      "Requirement already satisfied: h11<1,>=0.9.0 in /Users/salmaelmosallamy/anaconda3/lib/python3.10/site-packages (from wsproto>=0.14->trio-websocket~=0.9->selenium>=4.9.0->undetected-chromedriver) (0.14.0)\n"
     ]
    }
   ],
   "source": [
    "import requests\n",
    "from bs4 import BeautifulSoup\n",
    "import pandas as pd\n",
    "from datetime import datetime, timedelta\n",
    "import random\n",
    "import time\n",
    "from urllib.parse import quote\n",
    "import undetected_chromedriver as uc\n",
    "\n",
    "def get_seekingalpha_articles(ticker: str, start_date: datetime, end_date: datetime):\n",
    "    \"\"\"\n",
    "    Scrapes article titles and publication dates for a given stock ticker \n",
    "    from Seeking Alpha within the specified date range.\n",
    "\n",
    "    Parameters:\n",
    "        ticker (str): Stock ticker symbol (e.g., 'AMZN').\n",
    "        start_date (datetime): Start date as a datetime object.\n",
    "        end_date (datetime): End date as a datetime object.\n",
    "\n",
    "    Returns:\n",
    "        pd.Series: Series of article titles.\n",
    "        pd.Series: Series of article dates.\n",
    "    \"\"\"\n",
    "    start_str = start_date.strftime('%Y-%m-%dT%H:%M:%S.000Z')\n",
    "    end_str = end_date.strftime('%Y-%m-%dT%H:%M:%S.999Z')\n",
    "\n",
    "    # URL-encode the formatted strings\n",
    "    start_str = quote(start_str, safe='')\n",
    "    end_str = quote(end_str, safe='')\n",
    "\n",
    "    page_num = 1\n",
    "    all_titles, all_dates = [], []\n",
    "\n",
    "    # Set up Chrome options for headless mode\n",
    "    #options = uc.ChromeOptions()\n",
    "    #options.add_argument('--headless')\n",
    "    \n",
    "    # Initialize undetected-chromedriver with the configured options\n",
    "    driver = uc.Chrome()\n",
    "\n",
    "    while True:\n",
    "        url = f\"https://seekingalpha.com/symbol/{ticker}/news?from={start_str}&page={page_num}&to={end_str}\"\n",
    "\n",
    "        time.sleep(random.uniform(1, 3))\n",
    "        driver.get(url)\n",
    "    \n",
    "        # Allow some time for the page to load\n",
    "        time.sleep(3)\n",
    "\n",
    "        html = driver.page_source\n",
    "        soup = BeautifulSoup(html, 'html.parser')\n",
    "        \n",
    "        # Extract titles and dates\n",
    "        titles = soup.find_all('a', {'data-test-id': 'post-list-item-title'})\n",
    "        dates = soup.find_all('span', {'data-test-id': 'post-list-date'})\n",
    "\n",
    "        if not titles or not dates:\n",
    "            break  # Stop if no more articles are found\n",
    "\n",
    "        for title, date in zip(titles, dates):\n",
    "            title_text = title.text.strip()\n",
    "            date_str = date.text.strip()\n",
    "\n",
    "            # Handle if it is recent\n",
    "            if date_str.lower().startswith('yest'):\n",
    "                parsed_date = datetime.now() - timedelta(days=1)\n",
    "            elif date_str.lower().startswith('toda'):\n",
    "                parsed_date = datetime.now()\n",
    "                \n",
    "            # Handle date strings with or without a year\n",
    "            elif date_str[-4:].isdigit():  # If the string contains a year\n",
    "                date_format = '%a, %b %d, %Y' if \"May\" in date_str else '%a, %b. %d, %Y'\n",
    "                parsed_date = datetime.strptime(date_str, date_format)\n",
    "            else:\n",
    "                date_str = f'{date_str}, {datetime.now().year}'\n",
    "                date_format = '%a, %b %d, %Y' if \"May\" in date_str else '%a, %b. %d, %Y'\n",
    "                parsed_date = datetime.strptime(date_str, date_format)\n",
    "\n",
    "            # Append to the result lists\n",
    "            all_titles.append(title_text)\n",
    "            all_dates.append(parsed_date)\n",
    "        \n",
    "        page_num += 1\n",
    "\n",
    "    return all_titles, all_dates"
   ]
  },
  {
   "cell_type": "code",
   "execution_count": 62,
   "metadata": {},
   "outputs": [
    {
     "name": "stderr",
     "output_type": "stream",
     "text": [
      "/Users/salmaelmosallamy/anaconda3/lib/python3.10/site-packages/transformers/modeling_utils.py:479: FutureWarning: You are using `torch.load` with `weights_only=False` (the current default value), which uses the default pickle module implicitly. It is possible to construct malicious pickle data which will execute arbitrary code during unpickling (See https://github.com/pytorch/pytorch/blob/main/SECURITY.md#untrusted-models for more details). In a future release, the default value for `weights_only` will be flipped to `True`. This limits the functions that could be executed during unpickling. Arbitrary objects will no longer be allowed to be loaded via this mode unless they are explicitly allowlisted by the user via `torch.serialization.add_safe_globals`. We recommend you start setting `weights_only=True` for any use case where you don't have full control of the loaded file. Please open an issue on GitHub for any issues related to this experimental feature.\n",
      "  return torch.load(checkpoint_file, map_location=map_location)\n",
      "/Users/salmaelmosallamy/anaconda3/lib/python3.10/site-packages/transformers/pipelines/text_classification.py:105: UserWarning: `return_all_scores` is now deprecated,  if want a similar functionality use `top_k=None` instead of `return_all_scores=True` or `top_k=1` instead of `return_all_scores=False`.\n",
      "  warnings.warn(\n"
     ]
    }
   ],
   "source": [
    "from transformers import BertTokenizer, BertForSequenceClassification, pipeline\n",
    "import pandas as pd\n",
    "\n",
    "# Load the FinBERT model and tokenizer from Hugging Face\n",
    "model = BertForSequenceClassification.from_pretrained('ProsusAI/finbert', num_labels=3)\n",
    "tokenizer = BertTokenizer.from_pretrained('ProsusAI/finbert')\n",
    "\n",
    "nlp = pipeline(\"sentiment-analysis\", model=model, tokenizer=tokenizer, return_all_scores=True)\n",
    "\n",
    "def analyze_sentiment(titles: list) -> np.ndarray:\n",
    "    \"\"\"\n",
    "    Analyzes sentiment of article titles using FinBERT and returns cumulative sentiment scores.\n",
    "\n",
    "    Parameters:\n",
    "        titles (list): List of article titles.\n",
    "\n",
    "    Returns:\n",
    "        np.ndarray: Array of cumulative sentiment scores.\n",
    "    \"\"\"\n",
    "    cumulative_scores = []\n",
    "\n",
    "    for title in titles:\n",
    "        result = nlp(title)[0]  # Get sentiment scores for the title\n",
    "\n",
    "        # Extract individual scores\n",
    "        scores = {entry['label'].lower(): entry['score'] for entry in result}\n",
    "        positive = scores.get('positive', 0)\n",
    "        negative = scores.get('negative', 0)\n",
    "\n",
    "        # Calculate cumulative sentiment\n",
    "        cumulative_score = positive - negative\n",
    "\n",
    "        # Append to cumulative scores list\n",
    "        cumulative_scores.append(cumulative_score)\n",
    "\n",
    "    return np.array(cumulative_scores)\n",
    "    "
   ]
  },
  {
   "cell_type": "code",
   "execution_count": 64,
   "metadata": {},
   "outputs": [],
   "source": [
    "from datetime import datetime\n",
    "import numpy as np\n",
    "\n",
    "def merge_sentiment(\n",
    "    date_list: list, \n",
    "    sent_arr: np.ndarray, \n",
    "    index_dates: np.ndarray\n",
    ") -> np.ndarray:\n",
    "    \"\"\"\n",
    "    Merges sentiment scores by date, averaging multiple scores per day. \n",
    "    If a date has no articles, it fills the sentiment with 0.\n",
    "\n",
    "    Parameters:\n",
    "        date_list (list): List of datetime objects representing article publication dates.\n",
    "        sent_arr (np.ndarray): Array of sentiment scores corresponding to the article dates.\n",
    "        index_dates (np.ndarray): Array of indexed dates from the DataFrame.\n",
    "\n",
    "    Returns:\n",
    "        np.ndarray: Array of average daily sentiment scores aligned with the index dates.\n",
    "    \"\"\"\n",
    "    # Initialize an array for daily sentiment scores aligned with the index dates\n",
    "    daily_sentiment = np.zeros(len(index_dates))\n",
    "\n",
    "    \n",
    "\n",
    "    # Create a dictionary to group sentiment scores by date\n",
    "    sentiment_by_date = {}\n",
    "    for date, score in zip(date_list, sent_arr):\n",
    "        if date not in sentiment_by_date:\n",
    "            sentiment_by_date[date] = []\n",
    "        sentiment_by_date[date].append(score)\n",
    "        \n",
    "    # Iterate over the dates and compute the average sentiment for each\n",
    "    for idx, current_date in enumerate(index_dates):\n",
    "        if current_date in sentiment_by_date:\n",
    "            # Calculate the average sentiment for the current date\n",
    "            daily_sentiment[idx] = np.mean(sentiment_by_date[current_date])\n",
    "\n",
    "\n",
    "    return daily_sentiment\n"
   ]
  },
  {
   "cell_type": "code",
   "execution_count": 66,
   "metadata": {},
   "outputs": [
    {
     "name": "stderr",
     "output_type": "stream",
     "text": [
      "[*********************100%***********************]  1 of 1 completed\n"
     ]
    },
    {
     "data": {
      "text/html": [
       "<div>\n",
       "<style scoped>\n",
       "    .dataframe tbody tr th:only-of-type {\n",
       "        vertical-align: middle;\n",
       "    }\n",
       "\n",
       "    .dataframe tbody tr th {\n",
       "        vertical-align: top;\n",
       "    }\n",
       "\n",
       "    .dataframe thead th {\n",
       "        text-align: right;\n",
       "    }\n",
       "</style>\n",
       "<table border=\"1\" class=\"dataframe\">\n",
       "  <thead>\n",
       "    <tr style=\"text-align: right;\">\n",
       "      <th></th>\n",
       "      <th>Open</th>\n",
       "      <th>High</th>\n",
       "      <th>Low</th>\n",
       "      <th>Close</th>\n",
       "      <th>Adj Close</th>\n",
       "      <th>Volume</th>\n",
       "      <th>log_returns</th>\n",
       "      <th>rsi</th>\n",
       "      <th>ema</th>\n",
       "      <th>vwap</th>\n",
       "      <th>adx</th>\n",
       "      <th>normalized_volume</th>\n",
       "      <th>sentiment_score</th>\n",
       "    </tr>\n",
       "    <tr>\n",
       "      <th>Date</th>\n",
       "      <th></th>\n",
       "      <th></th>\n",
       "      <th></th>\n",
       "      <th></th>\n",
       "      <th></th>\n",
       "      <th></th>\n",
       "      <th></th>\n",
       "      <th></th>\n",
       "      <th></th>\n",
       "      <th></th>\n",
       "      <th></th>\n",
       "      <th></th>\n",
       "      <th></th>\n",
       "    </tr>\n",
       "  </thead>\n",
       "  <tbody>\n",
       "    <tr>\n",
       "      <th>2023-12-20</th>\n",
       "      <td>152.899994</td>\n",
       "      <td>155.630005</td>\n",
       "      <td>151.559998</td>\n",
       "      <td>152.119995</td>\n",
       "      <td>152.119995</td>\n",
       "      <td>50322100</td>\n",
       "      <td>-0.010918</td>\n",
       "      <td>65.938400</td>\n",
       "      <td>147.597741</td>\n",
       "      <td>153.103333</td>\n",
       "      <td>28.613592</td>\n",
       "      <td>0.993584</td>\n",
       "      <td>0.000000</td>\n",
       "    </tr>\n",
       "    <tr>\n",
       "      <th>2023-12-21</th>\n",
       "      <td>153.300003</td>\n",
       "      <td>153.970001</td>\n",
       "      <td>152.100006</td>\n",
       "      <td>153.839996</td>\n",
       "      <td>153.839996</td>\n",
       "      <td>36305700</td>\n",
       "      <td>0.011243</td>\n",
       "      <td>67.882503</td>\n",
       "      <td>148.192241</td>\n",
       "      <td>153.303335</td>\n",
       "      <td>28.629215</td>\n",
       "      <td>0.723525</td>\n",
       "      <td>0.000000</td>\n",
       "    </tr>\n",
       "    <tr>\n",
       "      <th>2023-12-22</th>\n",
       "      <td>153.770004</td>\n",
       "      <td>154.350006</td>\n",
       "      <td>152.710007</td>\n",
       "      <td>153.419998</td>\n",
       "      <td>153.419998</td>\n",
       "      <td>29480100</td>\n",
       "      <td>-0.002734</td>\n",
       "      <td>66.901022</td>\n",
       "      <td>148.690123</td>\n",
       "      <td>153.493337</td>\n",
       "      <td>28.723497</td>\n",
       "      <td>0.583372</td>\n",
       "      <td>0.000000</td>\n",
       "    </tr>\n",
       "    <tr>\n",
       "      <th>2023-12-26</th>\n",
       "      <td>153.559998</td>\n",
       "      <td>153.979996</td>\n",
       "      <td>153.029999</td>\n",
       "      <td>153.410004</td>\n",
       "      <td>153.410004</td>\n",
       "      <td>25067200</td>\n",
       "      <td>-0.000065</td>\n",
       "      <td>66.876801</td>\n",
       "      <td>149.139635</td>\n",
       "      <td>153.473333</td>\n",
       "      <td>28.808771</td>\n",
       "      <td>0.510542</td>\n",
       "      <td>0.000000</td>\n",
       "    </tr>\n",
       "    <tr>\n",
       "      <th>2023-12-27</th>\n",
       "      <td>153.559998</td>\n",
       "      <td>154.779999</td>\n",
       "      <td>153.119995</td>\n",
       "      <td>153.339996</td>\n",
       "      <td>153.339996</td>\n",
       "      <td>31434700</td>\n",
       "      <td>-0.000456</td>\n",
       "      <td>66.698755</td>\n",
       "      <td>149.539670</td>\n",
       "      <td>153.746663</td>\n",
       "      <td>29.056164</td>\n",
       "      <td>0.647666</td>\n",
       "      <td>0.000000</td>\n",
       "    </tr>\n",
       "    <tr>\n",
       "      <th>...</th>\n",
       "      <td>...</td>\n",
       "      <td>...</td>\n",
       "      <td>...</td>\n",
       "      <td>...</td>\n",
       "      <td>...</td>\n",
       "      <td>...</td>\n",
       "      <td>...</td>\n",
       "      <td>...</td>\n",
       "      <td>...</td>\n",
       "      <td>...</td>\n",
       "      <td>...</td>\n",
       "      <td>...</td>\n",
       "      <td>...</td>\n",
       "    </tr>\n",
       "    <tr>\n",
       "      <th>2024-10-18</th>\n",
       "      <td>187.149994</td>\n",
       "      <td>190.740005</td>\n",
       "      <td>186.279999</td>\n",
       "      <td>188.990005</td>\n",
       "      <td>188.990005</td>\n",
       "      <td>37417700</td>\n",
       "      <td>0.007755</td>\n",
       "      <td>55.250197</td>\n",
       "      <td>186.340482</td>\n",
       "      <td>188.670003</td>\n",
       "      <td>9.687454</td>\n",
       "      <td>1.167568</td>\n",
       "      <td>-0.291199</td>\n",
       "    </tr>\n",
       "    <tr>\n",
       "      <th>2024-10-21</th>\n",
       "      <td>188.050003</td>\n",
       "      <td>189.460007</td>\n",
       "      <td>186.399994</td>\n",
       "      <td>189.070007</td>\n",
       "      <td>189.070007</td>\n",
       "      <td>24639400</td>\n",
       "      <td>0.000423</td>\n",
       "      <td>55.339252</td>\n",
       "      <td>186.600437</td>\n",
       "      <td>188.310003</td>\n",
       "      <td>9.676897</td>\n",
       "      <td>0.783949</td>\n",
       "      <td>0.264389</td>\n",
       "    </tr>\n",
       "    <tr>\n",
       "      <th>2024-10-22</th>\n",
       "      <td>188.350006</td>\n",
       "      <td>191.520004</td>\n",
       "      <td>186.979996</td>\n",
       "      <td>189.699997</td>\n",
       "      <td>189.699997</td>\n",
       "      <td>29650600</td>\n",
       "      <td>0.003327</td>\n",
       "      <td>56.064017</td>\n",
       "      <td>186.895633</td>\n",
       "      <td>189.399999</td>\n",
       "      <td>9.912977</td>\n",
       "      <td>0.964609</td>\n",
       "      <td>-0.001428</td>\n",
       "    </tr>\n",
       "    <tr>\n",
       "      <th>2024-10-23</th>\n",
       "      <td>188.850006</td>\n",
       "      <td>189.160004</td>\n",
       "      <td>183.690002</td>\n",
       "      <td>184.710007</td>\n",
       "      <td>184.710007</td>\n",
       "      <td>31937100</td>\n",
       "      <td>-0.026657</td>\n",
       "      <td>49.382339</td>\n",
       "      <td>186.687478</td>\n",
       "      <td>185.853338</td>\n",
       "      <td>9.658180</td>\n",
       "      <td>1.029706</td>\n",
       "      <td>0.406446</td>\n",
       "    </tr>\n",
       "    <tr>\n",
       "      <th>2024-10-24</th>\n",
       "      <td>185.250000</td>\n",
       "      <td>187.110001</td>\n",
       "      <td>183.860001</td>\n",
       "      <td>186.380005</td>\n",
       "      <td>186.380005</td>\n",
       "      <td>21622800</td>\n",
       "      <td>0.009001</td>\n",
       "      <td>51.421890</td>\n",
       "      <td>186.658195</td>\n",
       "      <td>185.783335</td>\n",
       "      <td>9.416122</td>\n",
       "      <td>0.714092</td>\n",
       "      <td>0.000000</td>\n",
       "    </tr>\n",
       "  </tbody>\n",
       "</table>\n",
       "<p>213 rows × 13 columns</p>\n",
       "</div>"
      ],
      "text/plain": [
       "                  Open        High         Low       Close   Adj Close  \\\n",
       "Date                                                                     \n",
       "2023-12-20  152.899994  155.630005  151.559998  152.119995  152.119995   \n",
       "2023-12-21  153.300003  153.970001  152.100006  153.839996  153.839996   \n",
       "2023-12-22  153.770004  154.350006  152.710007  153.419998  153.419998   \n",
       "2023-12-26  153.559998  153.979996  153.029999  153.410004  153.410004   \n",
       "2023-12-27  153.559998  154.779999  153.119995  153.339996  153.339996   \n",
       "...                ...         ...         ...         ...         ...   \n",
       "2024-10-18  187.149994  190.740005  186.279999  188.990005  188.990005   \n",
       "2024-10-21  188.050003  189.460007  186.399994  189.070007  189.070007   \n",
       "2024-10-22  188.350006  191.520004  186.979996  189.699997  189.699997   \n",
       "2024-10-23  188.850006  189.160004  183.690002  184.710007  184.710007   \n",
       "2024-10-24  185.250000  187.110001  183.860001  186.380005  186.380005   \n",
       "\n",
       "              Volume  log_returns        rsi         ema        vwap  \\\n",
       "Date                                                                   \n",
       "2023-12-20  50322100    -0.010918  65.938400  147.597741  153.103333   \n",
       "2023-12-21  36305700     0.011243  67.882503  148.192241  153.303335   \n",
       "2023-12-22  29480100    -0.002734  66.901022  148.690123  153.493337   \n",
       "2023-12-26  25067200    -0.000065  66.876801  149.139635  153.473333   \n",
       "2023-12-27  31434700    -0.000456  66.698755  149.539670  153.746663   \n",
       "...              ...          ...        ...         ...         ...   \n",
       "2024-10-18  37417700     0.007755  55.250197  186.340482  188.670003   \n",
       "2024-10-21  24639400     0.000423  55.339252  186.600437  188.310003   \n",
       "2024-10-22  29650600     0.003327  56.064017  186.895633  189.399999   \n",
       "2024-10-23  31937100    -0.026657  49.382339  186.687478  185.853338   \n",
       "2024-10-24  21622800     0.009001  51.421890  186.658195  185.783335   \n",
       "\n",
       "                  adx  normalized_volume  sentiment_score  \n",
       "Date                                                       \n",
       "2023-12-20  28.613592           0.993584         0.000000  \n",
       "2023-12-21  28.629215           0.723525         0.000000  \n",
       "2023-12-22  28.723497           0.583372         0.000000  \n",
       "2023-12-26  28.808771           0.510542         0.000000  \n",
       "2023-12-27  29.056164           0.647666         0.000000  \n",
       "...               ...                ...              ...  \n",
       "2024-10-18   9.687454           1.167568        -0.291199  \n",
       "2024-10-21   9.676897           0.783949         0.264389  \n",
       "2024-10-22   9.912977           0.964609        -0.001428  \n",
       "2024-10-23   9.658180           1.029706         0.406446  \n",
       "2024-10-24   9.416122           0.714092         0.000000  \n",
       "\n",
       "[213 rows x 13 columns]"
      ]
     },
     "execution_count": 66,
     "metadata": {},
     "output_type": "execute_result"
    }
   ],
   "source": [
    "# Example usage\n",
    "stock = 'AMZN'\n",
    "period = '1y'\n",
    "interval = '1d'\n",
    "\n",
    "# Fetch stock data\n",
    "stock_ohlc = get_stock_data(stock, period, interval)\n",
    "\n",
    "# Calculate log returns\n",
    "log_returns_arr = calculate_log_returns(stock_ohlc['Close'])\n",
    "\n",
    "# Calculate technical indicators (RSI, EMA, VWAP, etc.)\n",
    "technical_indicators_dict = calculate_technical_indicators(stock_ohlc)\n",
    "\n",
    "# Add calculated fields to stock dataframe\n",
    "stock_df = stock_ohlc\n",
    "stock_df['log_returns'] = log_returns_arr\n",
    "stock_df['rsi'] = technical_indicators_dict['rsi']\n",
    "stock_df['ema'] = technical_indicators_dict['ema']\n",
    "stock_df['vwap'] = technical_indicators_dict['vwap']\n",
    "stock_df['adx'] = technical_indicators_dict['adx']\n",
    "stock_df['normalized_volume'] = technical_indicators_dict['normalized_volume']\n",
    "\n",
    "# Convert date to string for the article collection\n",
    "first_date = stock_ohlc.index.min()\n",
    "last_date = stock_ohlc.index.max()\n",
    "\n",
    "# Get latest news articles and add sentiment scores\n",
    "article_titles, dates  = get_seekingalpha_articles(stock, first_date, last_date)\n",
    "sentiment_arr = analyze_sentiment(article_titles)\n",
    "sentiment_aligned = merge_sentiment(dates, sentiment_arr, stock_ohlc.index.to_pydatetime())\n",
    "\n",
    "# Add the sentiment array to the stock DataFrame\n",
    "stock_df['sentiment_score'] = sentiment_aligned\n",
    "\n",
    "# Drop Nan values from DF\n",
    "stock_df = stock_df.dropna()\n",
    "\n",
    "# Display the final dataframe\n",
    "stock_df"
   ]
  },
  {
   "cell_type": "code",
   "execution_count": 67,
   "metadata": {},
   "outputs": [
    {
     "data": {
      "image/png": "[encoded data removed]",
      "text/plain": [
       "<Figure size 640x480 with 1 Axes>"
      ]
     },
     "metadata": {},
     "output_type": "display_data"
    }
   ],
   "source": [
    "import matplotlib.pyplot as plt\n",
    "\n",
    "# Plot histogram of log returns\n",
    "plt.hist(log_returns_arr, bins=80, edgecolor='black')\n",
    "plt.title('Distribution of Log Returns')\n",
    "plt.xlabel('Log Returns')\n",
    "plt.ylabel('Frequency')\n",
    "plt.show()"
   ]
  },
  {
   "cell_type": "markdown",
   "metadata": {},
   "source": [
    "The bimodal distribution observed in the log returns suggests volatility clustering, where the market exhibits frequent up or down movements, with fewer instances of no change. This non-linear behavior makes it challenging to use such features effectively in linear regression, as the model assumes a linear relationship between variables. The two peaks around zero highlight the market’s preference to shift rather than remain flat, reflecting non-stationary behavior. Also the data is shifted to the right slightly because stocks in general return positive returns over long time frames."
   ]
  },
  {
   "cell_type": "code",
   "execution_count": 71,
   "metadata": {},
   "outputs": [
    {
     "data": {
      "text/html": [
       "<div>\n",
       "<style scoped>\n",
       "    .dataframe tbody tr th:only-of-type {\n",
       "        vertical-align: middle;\n",
       "    }\n",
       "\n",
       "    .dataframe tbody tr th {\n",
       "        vertical-align: top;\n",
       "    }\n",
       "\n",
       "    .dataframe thead th {\n",
       "        text-align: right;\n",
       "    }\n",
       "</style>\n",
       "<table border=\"1\" class=\"dataframe\">\n",
       "  <thead>\n",
       "    <tr style=\"text-align: right;\">\n",
       "      <th></th>\n",
       "      <th>Close</th>\n",
       "      <th>Volume</th>\n",
       "      <th>rsi</th>\n",
       "      <th>ema</th>\n",
       "      <th>vwap</th>\n",
       "      <th>adx</th>\n",
       "      <th>sentiment_score</th>\n",
       "    </tr>\n",
       "  </thead>\n",
       "  <tbody>\n",
       "    <tr>\n",
       "      <th>Close</th>\n",
       "      <td>1.000000</td>\n",
       "      <td>-0.151966</td>\n",
       "      <td>-0.019974</td>\n",
       "      <td>0.904341</td>\n",
       "      <td>0.997624</td>\n",
       "      <td>-0.470105</td>\n",
       "      <td>0.089449</td>\n",
       "    </tr>\n",
       "    <tr>\n",
       "      <th>Volume</th>\n",
       "      <td>-0.151966</td>\n",
       "      <td>1.000000</td>\n",
       "      <td>-0.010725</td>\n",
       "      <td>-0.120322</td>\n",
       "      <td>-0.160760</td>\n",
       "      <td>0.090972</td>\n",
       "      <td>-0.119101</td>\n",
       "    </tr>\n",
       "    <tr>\n",
       "      <th>rsi</th>\n",
       "      <td>-0.019974</td>\n",
       "      <td>-0.010725</td>\n",
       "      <td>1.000000</td>\n",
       "      <td>-0.412038</td>\n",
       "      <td>-0.029738</td>\n",
       "      <td>0.311811</td>\n",
       "      <td>-0.025563</td>\n",
       "    </tr>\n",
       "    <tr>\n",
       "      <th>ema</th>\n",
       "      <td>0.904341</td>\n",
       "      <td>-0.120322</td>\n",
       "      <td>-0.412038</td>\n",
       "      <td>1.000000</td>\n",
       "      <td>0.907945</td>\n",
       "      <td>-0.507403</td>\n",
       "      <td>0.087329</td>\n",
       "    </tr>\n",
       "    <tr>\n",
       "      <th>vwap</th>\n",
       "      <td>0.997624</td>\n",
       "      <td>-0.160760</td>\n",
       "      <td>-0.029738</td>\n",
       "      <td>0.907945</td>\n",
       "      <td>1.000000</td>\n",
       "      <td>-0.464629</td>\n",
       "      <td>0.085372</td>\n",
       "    </tr>\n",
       "    <tr>\n",
       "      <th>adx</th>\n",
       "      <td>-0.470105</td>\n",
       "      <td>0.090972</td>\n",
       "      <td>0.311811</td>\n",
       "      <td>-0.507403</td>\n",
       "      <td>-0.464629</td>\n",
       "      <td>1.000000</td>\n",
       "      <td>-0.166708</td>\n",
       "    </tr>\n",
       "    <tr>\n",
       "      <th>sentiment_score</th>\n",
       "      <td>0.089449</td>\n",
       "      <td>-0.119101</td>\n",
       "      <td>-0.025563</td>\n",
       "      <td>0.087329</td>\n",
       "      <td>0.085372</td>\n",
       "      <td>-0.166708</td>\n",
       "      <td>1.000000</td>\n",
       "    </tr>\n",
       "  </tbody>\n",
       "</table>\n",
       "</div>"
      ],
      "text/plain": [
       "                    Close    Volume       rsi       ema      vwap       adx  \\\n",
       "Close            1.000000 -0.151966 -0.019974  0.904341  0.997624 -0.470105   \n",
       "Volume          -0.151966  1.000000 -0.010725 -0.120322 -0.160760  0.090972   \n",
       "rsi             -0.019974 -0.010725  1.000000 -0.412038 -0.029738  0.311811   \n",
       "ema              0.904341 -0.120322 -0.412038  1.000000  0.907945 -0.507403   \n",
       "vwap             0.997624 -0.160760 -0.029738  0.907945  1.000000 -0.464629   \n",
       "adx             -0.470105  0.090972  0.311811 -0.507403 -0.464629  1.000000   \n",
       "sentiment_score  0.089449 -0.119101 -0.025563  0.087329  0.085372 -0.166708   \n",
       "\n",
       "                 sentiment_score  \n",
       "Close                   0.089449  \n",
       "Volume                 -0.119101  \n",
       "rsi                    -0.025563  \n",
       "ema                     0.087329  \n",
       "vwap                    0.085372  \n",
       "adx                    -0.166708  \n",
       "sentiment_score         1.000000  "
      ]
     },
     "execution_count": 71,
     "metadata": {},
     "output_type": "execute_result"
    }
   ],
   "source": [
    "# Correlations\n",
    "df_corr = stock_df[[\"Close\", \"Volume\", \"rsi\", \"ema\", \"vwap\", \"adx\", \"sentiment_score\"]]\n",
    "correlations = df_corr.corr()\n",
    "correlations"
   ]
  },
  {
   "cell_type": "markdown",
   "metadata": {},
   "source": [
    "This table provides the correlations between closeing price for the day, volume of shares trades, technical indicators (like rsi, ema, vwap, adx), and sentiment score for each day the Amazon stock is traded. Based on these correlations, we can determine which variables have the strongest relationships, which gives us a better understanding of the data when analyzing. \n",
    "\n",
    "**Notable Relationships:**\n",
    "1. **Close and EMA (exponential moving average):** The high correlation of 0.904341 suggests that EMA can be a valuable indicator in predicting the closing price of Amazon's stock. This relationship makes sense the EMA is calulated using data from historical prices. This allows investors to confidently use the EMA as part of strategies to predict price movements, identify trends, and make informed decisions on entry and exit points for their trades.  \n",
    "2. **EMA and VWAP (volume weighted average price):** This relationship has a strong positive correlation of 0.907945. EMA tracks trends purely based on price, while vwap also takes volume of shares into consideration. This strong relationship suggests that price movements are well supported by trading volumes. This signals to investors good times to buy/sell a stock.    \n",
    "3. **VWAP and ADX (average directional index):** There is a moderate inverse relationship between these two factors, suggested by a correlation of -0.464629. ADX is used to measure the strength of a trend. As the VWAP increases, the ADX tends to decrease, which makes sense because with a higher trading volume comes greater uncertainty and prices may be more scattered.\n",
    "\n",
    "The correlation between technichal indicators and sentiment scores were also an area of interest for our group, however there does not appaer to be a strong relationship between any. Therefore, this tells us that the sentiment of recent news articles many not have a significant impact on stock trends. "
   ]
  },
  {
   "cell_type": "code",
   "execution_count": 74,
   "metadata": {},
   "outputs": [],
   "source": [
    "import plotly.graph_objects as go"
   ]
  },
  {
   "cell_type": "code",
   "execution_count": 91,
   "metadata": {},
   "outputs": [
    {
     "data": {
      "application/vnd.plotly.v1+json": {
       "config": {
        "plotlyServerURL": "https://plot.ly"
       },
       "data": [
        {
         "close": [
          152.1199951171875,
          153.83999633789062,
          153.4199981689453,
          153.41000366210938,
          153.33999633789062,
          153.3800048828125,
          151.94000244140625,
          149.92999267578125,
          148.47000122070312,
          144.57000732421875,
          145.24000549316406,
          149.10000610351562,
          151.3699951171875,
          153.72999572753906,
          155.17999267578125,
          154.6199951171875,
          153.16000366210938,
          151.7100067138672,
          153.5,
          155.33999633789062,
          154.77999877929688,
          156.02000427246094,
          156.8699951171875,
          157.75,
          159.1199951171875,
          161.25999450683594,
          159,
          155.1999969482422,
          159.27999877929688,
          171.80999755859375,
          170.30999755859375,
          169.14999389648438,
          170.52999877929688,
          169.83999633789062,
          174.4499969482422,
          172.33999633789062,
          168.63999938964844,
          170.97999572753906,
          169.8000030517578,
          169.50999450683594,
          167.0800018310547,
          168.58999633789062,
          174.5800018310547,
          174.99000549316406,
          174.72999572753906,
          173.5399932861328,
          173.16000366210938,
          176.75999450683594,
          178.22000122070312,
          177.5800018310547,
          174.1199951171875,
          173.50999450683594,
          176.82000732421875,
          175.35000610351562,
          171.9600067138672,
          175.38999938964844,
          176.55999755859375,
          178.75,
          174.4199981689453,
          174.47999572753906,
          175.89999389648438,
          178.14999389648438,
          178.14999389648438,
          178.8699951171875,
          179.7100067138672,
          178.3000030517578,
          179.8300018310547,
          180.3800048828125,
          180.97000122070312,
          180.69000244140625,
          182.41000366210938,
          180,
          185.07000732421875,
          185.19000244140625,
          185.6699981689453,
          185.9499969482422,
          189.0500030517578,
          186.1300048828125,
          183.6199951171875,
          183.32000732421875,
          181.27999877929688,
          179.22000122070312,
          174.6300048828125,
          177.22999572753906,
          179.5399932861328,
          176.58999633789062,
          173.6699981689453,
          179.6199951171875,
          180.9600067138672,
          175,
          179,
          184.72000122070312,
          186.2100067138672,
          188.6999969482422,
          188.75999450683594,
          188,
          189.5,
          187.47999572753906,
          186.57000732421875,
          187.07000732421875,
          185.99000549316406,
          183.6300048828125,
          184.6999969482422,
          183.5399932861328,
          183.14999389648438,
          183.1300048828125,
          181.0500030517578,
          180.75,
          182.14999389648438,
          182.02000427246094,
          179.32000732421875,
          176.44000244140625,
          178.33999633789062,
          179.33999633789062,
          181.27999877929688,
          185,
          184.3000030517578,
          187.05999755859375,
          187.22999572753906,
          186.88999938964844,
          183.8300018310547,
          183.66000366210938,
          184.05999755859375,
          182.80999755859375,
          186.10000610351562,
          189.0800018310547,
          185.57000732421875,
          186.33999633789062,
          193.61000061035156,
          197.85000610351562,
          193.25,
          197.1999969482422,
          200,
          197.58999633789062,
          200,
          199.2899932861328,
          199.33999633789062,
          199.7899932861328,
          195.0500030517578,
          194.49000549316406,
          192.72000122070312,
          193.02000427246094,
          187.92999267578125,
          183.75,
          183.1300048828125,
          182.5500030517578,
          186.41000366210938,
          180.8300018310547,
          179.85000610351562,
          182.5,
          183.1999969482422,
          181.7100067138672,
          186.97999572753906,
          184.07000732421875,
          167.89999389648438,
          161.02000427246094,
          161.92999267578125,
          162.77000427246094,
          165.8000030517578,
          166.94000244140625,
          166.8000030517578,
          170.22999572753906,
          170.10000610351562,
          177.58999633789062,
          177.05999755859375,
          178.22000122070312,
          178.8800048828125,
          180.11000061035156,
          176.1300048828125,
          177.0399932861328,
          175.5,
          173.1199951171875,
          170.8000030517578,
          172.1199951171875,
          178.5,
          176.25,
          173.3300018310547,
          177.88999938964844,
          171.38999938964844,
          175.39999389648438,
          179.5500030517578,
          184.52000427246094,
          187,
          186.49000549316406,
          184.88999938964844,
          186.8800048828125,
          186.42999267578125,
          189.8699951171875,
          191.60000610351562,
          193.8800048828125,
          193.9600067138672,
          192.52999877929688,
          191.16000366210938,
          187.97000122070312,
          186.3300018310547,
          185.1300048828125,
          184.75999450683594,
          181.9600067138672,
          186.50999450683594,
          180.8000030517578,
          182.72000122070312,
          185.1699981689453,
          186.64999389648438,
          188.82000732421875,
          187.5399932861328,
          187.69000244140625,
          186.88999938964844,
          187.52999877929688,
          188.99000549316406,
          189.07000732421875,
          189.6999969482422,
          184.7100067138672,
          186.3800048828125
         ],
         "high": [
          155.6300048828125,
          153.97000122070312,
          154.35000610351562,
          153.97999572753906,
          154.77999877929688,
          154.0800018310547,
          153.88999938964844,
          152.3800048828125,
          151.0500030517578,
          147.3800048828125,
          146.58999633789062,
          149.39999389648438,
          151.7100067138672,
          154.4199981689453,
          157.1699981689453,
          156.1999969482422,
          154.99000549316406,
          152.14999389648438,
          153.77999877929688,
          155.75999450683594,
          157.0500030517578,
          156.2100067138672,
          158.50999450683594,
          158.50999450683594,
          160.72000122070312,
          161.2899932861328,
          161.72999572753906,
          159.00999450683594,
          159.75999450683594,
          172.5,
          170.5500030517578,
          170.7100067138672,
          170.8800048828125,
          171.42999267578125,
          175,
          175.38999938964844,
          170.9499969482422,
          171.2100067138672,
          171.1699981689453,
          170.4199981689453,
          168.7100067138672,
          170.22999572753906,
          174.8000030517578,
          175.75,
          176.3699951171875,
          174.6199951171875,
          174.0500030517578,
          177.22000122070312,
          178.72999572753906,
          180.13999938964844,
          176.92999267578125,
          176.4600067138672,
          177.99000549316406,
          178.7899932861328,
          174.47000122070312,
          176.75999450683594,
          177.6199951171875,
          179.52999877929688,
          177.92999267578125,
          176.69000244140625,
          176.08999633789062,
          178.52999877929688,
          181.4199981689453,
          179.25999450683594,
          180.99000549316406,
          180.4499969482422,
          180,
          181.6999969482422,
          183,
          180.7899932861328,
          182.8699951171875,
          185.10000610351562,
          186.27000427246094,
          187.2899932861328,
          187.33999633789062,
          186.27000427246094,
          189.77000427246094,
          188.3800048828125,
          188.69000244140625,
          184.8300018310547,
          184.57000732421875,
          182.38999938964844,
          179,
          178.8699951171875,
          179.92999267578125,
          180.32000732421875,
          173.9199981689453,
          180.82000732421875,
          183.52999877929688,
          182.99000549316406,
          185.14999389648438,
          185.10000610351562,
          187.8699951171875,
          188.75,
          189.94000244140625,
          188.42999267578125,
          191.6999969482422,
          189.88999938964844,
          188.30999755859375,
          187.72000122070312,
          186.72000122070312,
          187.30999755859375,
          185.3000030517578,
          186.6699981689453,
          183.25999450683594,
          185.22000122070312,
          184.75999450683594,
          182.44000244140625,
          182.24000549316406,
          184.0800018310547,
          181.33999633789062,
          179.2100067138672,
          178.6999969482422,
          179.82000732421875,
          181.5,
          185,
          186.2899932861328,
          187.22999572753906,
          187.77000427246094,
          188.35000610351562,
          187.6699981689453,
          183.72000122070312,
          185,
          184.2899932861328,
          186.50999450683594,
          189.27999877929688,
          191,
          188.83999633789062,
          194.8000030517578,
          199.83999633789062,
          198.85000610351562,
          198.3000030517578,
          200.42999267578125,
          200.02999877929688,
          200.5500030517578,
          201.1999969482422,
          200.57000732421875,
          200.11000061035156,
          200.27000427246094,
          196.47000122070312,
          196.19000244140625,
          196.6199951171875,
          191.5800018310547,
          189.67999267578125,
          184.92999267578125,
          185.05999755859375,
          189.38999938964844,
          185.4499969482422,
          183.89999389648438,
          183.19000244140625,
          184.75,
          185.86000061035156,
          187.94000244140625,
          190.60000610351562,
          168.77000427246094,
          162.9600067138672,
          165.0800018310547,
          167.5800018310547,
          166.69000244140625,
          168.5500030517578,
          168.5500030517578,
          171.0399932861328,
          172.27999877929688,
          177.91000366210938,
          178.33999633789062,
          178.3000030517578,
          179.00999450683594,
          182.38999938964844,
          181.47000122070312,
          178.97000122070312,
          177.47000122070312,
          174.88999938964844,
          173.69000244140625,
          174.2899932861328,
          178.89999389648438,
          178.25999450683594,
          175.97999572753906,
          179.8800048828125,
          178.3800048828125,
          175.85000610351562,
          180.5,
          184.99000549316406,
          187.41000366210938,
          188.5,
          185.80999755859375,
          189.4499969482422,
          188.8000030517578,
          190.99000549316406,
          191.83999633789062,
          194.4499969482422,
          195.3699951171875,
          193.9499969482422,
          194.52999877929688,
          190.89999389648438,
          188.49000549316406,
          186.19000244140625,
          186.60000610351562,
          183.44000244140625,
          187.60000610351562,
          183.60000610351562,
          183.08999633789062,
          185.85000610351562,
          188.1300048828125,
          189.92999267578125,
          189.8300018310547,
          188.41000366210938,
          187.77999877929688,
          188.94000244140625,
          190.74000549316406,
          189.4600067138672,
          191.52000427246094,
          189.16000366210938,
          187.11000061035156
         ],
         "low": [
          151.55999755859375,
          152.10000610351562,
          152.7100067138672,
          153.02999877929688,
          153.1199951171875,
          152.9499969482422,
          151.02999877929688,
          148.38999938964844,
          148.3300018310547,
          144.0500030517578,
          144.52999877929688,
          146.14999389648438,
          148.2100067138672,
          151.8800048828125,
          153.1199951171875,
          154.00999450683594,
          152.14999389648438,
          149.91000366210938,
          151.82000732421875,
          152.74000549316406,
          153.89999389648438,
          153.92999267578125,
          156.47999572753906,
          154.5500030517578,
          157.91000366210938,
          158.89999389648438,
          158.49000549316406,
          154.80999755859375,
          155.6199951171875,
          167.3300018310547,
          167.6999969482422,
          167.64999389648438,
          168.94000244140625,
          168.8800048828125,
          170.5800018310547,
          171.5399932861328,
          165.75,
          168.27999877929688,
          167.58999633789062,
          167.1699981689453,
          165.74000549316406,
          167.13999938964844,
          171.77000427246094,
          173.6999969482422,
          174.25999450683594,
          172.86000061035156,
          172.27000427246094,
          172.85000610351562,
          176.07000732421875,
          177.49000549316406,
          173.3000030517578,
          173.25999450683594,
          173.72000122070312,
          174.3300018310547,
          171.47000122070312,
          171.97999572753906,
          175.5500030517578,
          176.47000122070312,
          173.89999389648438,
          174.27999877929688,
          173.52000427246094,
          174.63999938964844,
          178.14999389648438,
          176.75,
          177.24000549316406,
          177.9499969482422,
          177.30999755859375,
          179.25999450683594,
          179.9499969482422,
          178.3800048828125,
          179.8000030517578,
          180,
          181.97000122070312,
          184.80999755859375,
          184.1999969482422,
          182.6699981689453,
          185.50999450683594,
          185.0800018310547,
          183,
          182.25999450683594,
          179.82000732421875,
          178.64999389648438,
          173.44000244140625,
          174.55999755859375,
          175.97999572753906,
          176.17999267578125,
          166.32000732421875,
          176.1300048828125,
          179.38999938964844,
          174.8000030517578,
          176.55999755859375,
          179.91000366210938,
          185.4199981689453,
          184.8000030517578,
          187.30999755859375,
          186.38999938964844,
          187.44000244140625,
          186.92999267578125,
          185.36000061035156,
          183.4499969482422,
          182.72999572753906,
          183.4600067138672,
          183.35000610351562,
          183.27999877929688,
          180.75,
          181.97000122070312,
          180.0800018310547,
          180.3000030517578,
          179.49000549316406,
          181.5500030517578,
          178.36000061035156,
          173.8699951171875,
          175.9199981689453,
          176.44000244140625,
          178.75,
          181.49000549316406,
          183.36000061035156,
          183.7899932861328,
          184.5399932861328,
          185.42999267578125,
          182.6699981689453,
          182.22999572753906,
          181.22000122070312,
          181.42999267578125,
          182.72000122070312,
          185.86000061035156,
          185.3300018310547,
          185.4199981689453,
          186.25999450683594,
          194.1999969482422,
          192.5,
          192.82000732421875,
          195.92999267578125,
          196.75999450683594,
          198.1699981689453,
          197.9600067138672,
          199.0500030517578,
          197.69000244140625,
          192.86000061035156,
          193.8300018310547,
          190.8300018310547,
          192.24000549316406,
          185.99000549316406,
          181.4499969482422,
          180.11000061035156,
          182.47999572753906,
          183.55999755859375,
          180.41000366210938,
          176.8000030517578,
          180.24000549316406,
          182.3800048828125,
          179.3800048828125,
          184.4600067138672,
          181.8699951171875,
          160.5500030517578,
          151.61000061035156,
          158.5399932861328,
          161.42999267578125,
          162.5500030517578,
          165.85000610351562,
          166.11000061035156,
          167.10000610351562,
          168.86000061035156,
          173.99000549316406,
          176.25999450683594,
          176.16000366210938,
          177.42999267578125,
          178.88999938964844,
          175.67999267578125,
          175.24000549316406,
          174.3000030517578,
          172.25,
          168.9199981689453,
          170.80999755859375,
          172.60000610351562,
          175.25999450683594,
          172.5399932861328,
          175,
          171.16000366210938,
          173.50999450683594,
          176.7899932861328,
          175.72999572753906,
          183.5399932861328,
          185.91000366210938,
          183.36000061035156,
          186.13999938964844,
          185.05999755859375,
          188.47000122070312,
          187.41000366210938,
          190.57000732421875,
          190.1300048828125,
          192.16000366210938,
          189.5399932861328,
          187.33999633789062,
          184.64999389648438,
          183.4499969482422,
          184.0399932861328,
          180.8800048828125,
          183.60000610351562,
          180.25,
          180.9199981689453,
          182.0500030517578,
          185.8300018310547,
          186.3000030517578,
          187.36000061035156,
          184.5800018310547,
          185.61000061035156,
          186,
          186.27999877929688,
          186.39999389648438,
          186.97999572753906,
          183.69000244140625,
          183.86000061035156
         ],
         "open": [
          152.89999389648438,
          153.3000030517578,
          153.77000427246094,
          153.55999755859375,
          153.55999755859375,
          153.72000122070312,
          153.10000610351562,
          151.5399932861328,
          149.1999969482422,
          145.58999633789062,
          144.69000244140625,
          146.74000549316406,
          148.3300018310547,
          152.05999755859375,
          155.0399932861328,
          155.38999938964844,
          153.52999877929688,
          151.49000549316406,
          152.77000427246094,
          153.8300018310547,
          156.88999938964844,
          154.85000610351562,
          157.8000030517578,
          156.9499969482422,
          158.4199981689453,
          159.33999633789062,
          160.6999969482422,
          157,
          155.8699951171875,
          169.19000244140625,
          170.1999969482422,
          169.38999938964844,
          169.47999572753906,
          169.64999389648438,
          170.89999389648438,
          174.8000030517578,
          167.72999572753906,
          169.2100067138672,
          170.5800018310547,
          168.74000549316406,
          167.8300018310547,
          168.94000244140625,
          173.10000610351562,
          174.27999877929688,
          175.6999969482422,
          174.0800018310547,
          172.44000244140625,
          173.00999450683594,
          176.75,
          177.52999877929688,
          176.92999267578125,
          175.5399932861328,
          174.8300018310547,
          176.44000244140625,
          174.30999755859375,
          173.5,
          175.89999389648438,
          177.69000244140625,
          176.63999938964844,
          175.8000030517578,
          174.22000122070312,
          176.13999938964844,
          179.99000549316406,
          177.75,
          178.00999450683594,
          180.14999389648438,
          179.8800048828125,
          180.1699981689453,
          180.7899932861328,
          179.07000732421875,
          179.89999389648438,
          184,
          182.3800048828125,
          186.89999389648438,
          187.24000549316406,
          182.77000427246094,
          186.74000549316406,
          187.72000122070312,
          187.42999267578125,
          183.27000427246094,
          184.30999755859375,
          181.47000122070312,
          178.74000549316406,
          176.94000244140625,
          178.0800018310547,
          179.94000244140625,
          169.67999267578125,
          177.8000030517578,
          182.75,
          181.08999633789062,
          181.63999938964844,
          180.85000610351562,
          186.99000549316406,
          186.27999877929688,
          188.9199981689453,
          187.44000244140625,
          188.8800048828125,
          189.16000366210938,
          188,
          183.82000732421875,
          185.97000122070312,
          185.60000610351562,
          183.75999450683594,
          184.33999633789062,
          182.3000030517578,
          183.8800048828125,
          183.66000366210938,
          181.64999389648438,
          179.92999267578125,
          181.6999969482422,
          181.30999755859375,
          178.3000030517578,
          177.6999969482422,
          177.63999938964844,
          180.10000610351562,
          181.75,
          184.89999389648438,
          184.07000732421875,
          187.05999755859375,
          188.02000427246094,
          186.08999633789062,
          183.0800018310547,
          182.52000427246094,
          183.74000549316406,
          182.91000366210938,
          187.8000030517578,
          189.3300018310547,
          186.80999755859375,
          186.9199981689453,
          195.00999450683594,
          197.72999572753906,
          193.49000549316406,
          197.27999877929688,
          199.94000244140625,
          198.64999389648438,
          200.0399932861328,
          199.39999389648438,
          200,
          200.08999633789062,
          194.8000030517578,
          194.55999755859375,
          195.58999633789062,
          191.35000610351562,
          189.58999633789062,
          181.13999938964844,
          185,
          184.10000610351562,
          183.1999969482422,
          182.91000366210938,
          180.38999938964844,
          183.83999633789062,
          184.72000122070312,
          185.0500030517578,
          189.2899932861328,
          166.75,
          154.2100067138672,
          161.7100067138672,
          166.5500030517578,
          165.1699981689453,
          166.39999389648438,
          168.13999938964844,
          167.80999755859375,
          172.11000061035156,
          174.86000061035156,
          177.0399932861328,
          177.63999938964844,
          177.9199981689453,
          179.9199981689453,
          181.3800048828125,
          177.33999633789062,
          176.6999969482422,
          174.14999389648438,
          173.69000244140625,
          173.22000122070312,
          172.77999877929688,
          177.5500030517578,
          174.47999572753906,
          175,
          177.24000549316406,
          174.52999877929688,
          177.49000549316406,
          180.10000610351562,
          184.8000030517578,
          187,
          185.2899932861328,
          186.85000610351562,
          186.4499969482422,
          190.0399932861328,
          190.22999572753906,
          191.63999938964844,
          194.27000427246094,
          193.75,
          194.30999755859375,
          190.67999267578125,
          187.13999938964844,
          184.89999389648438,
          184.44000244140625,
          183.0500030517578,
          185.75,
          182.9499969482422,
          181.9199981689453,
          182.82000732421875,
          187.1300048828125,
          186.6300048828125,
          189.77999877929688,
          187.6300048828125,
          187.0500030517578,
          188.22000122070312,
          187.14999389648438,
          188.0500030517578,
          188.35000610351562,
          188.85000610351562,
          185.25
         ],
         "type": "candlestick",
         "x": [
          "2023-12-20T00:00:00",
          "2023-12-21T00:00:00",
          "2023-12-22T00:00:00",
          "2023-12-26T00:00:00",
          "2023-12-27T00:00:00",
          "2023-12-28T00:00:00",
          "2023-12-29T00:00:00",
          "2024-01-02T00:00:00",
          "2024-01-03T00:00:00",
          "2024-01-04T00:00:00",
          "2024-01-05T00:00:00",
          "2024-01-08T00:00:00",
          "2024-01-09T00:00:00",
          "2024-01-10T00:00:00",
          "2024-01-11T00:00:00",
          "2024-01-12T00:00:00",
          "2024-01-16T00:00:00",
          "2024-01-17T00:00:00",
          "2024-01-18T00:00:00",
          "2024-01-19T00:00:00",
          "2024-01-22T00:00:00",
          "2024-01-23T00:00:00",
          "2024-01-24T00:00:00",
          "2024-01-25T00:00:00",
          "2024-01-26T00:00:00",
          "2024-01-29T00:00:00",
          "2024-01-30T00:00:00",
          "2024-01-31T00:00:00",
          "2024-02-01T00:00:00",
          "2024-02-02T00:00:00",
          "2024-02-05T00:00:00",
          "2024-02-06T00:00:00",
          "2024-02-07T00:00:00",
          "2024-02-08T00:00:00",
          "2024-02-09T00:00:00",
          "2024-02-12T00:00:00",
          "2024-02-13T00:00:00",
          "2024-02-14T00:00:00",
          "2024-02-15T00:00:00",
          "2024-02-16T00:00:00",
          "2024-02-20T00:00:00",
          "2024-02-21T00:00:00",
          "2024-02-22T00:00:00",
          "2024-02-23T00:00:00",
          "2024-02-26T00:00:00",
          "2024-02-27T00:00:00",
          "2024-02-28T00:00:00",
          "2024-02-29T00:00:00",
          "2024-03-01T00:00:00",
          "2024-03-04T00:00:00",
          "2024-03-05T00:00:00",
          "2024-03-06T00:00:00",
          "2024-03-07T00:00:00",
          "2024-03-08T00:00:00",
          "2024-03-11T00:00:00",
          "2024-03-12T00:00:00",
          "2024-03-13T00:00:00",
          "2024-03-14T00:00:00",
          "2024-03-15T00:00:00",
          "2024-03-18T00:00:00",
          "2024-03-19T00:00:00",
          "2024-03-20T00:00:00",
          "2024-03-21T00:00:00",
          "2024-03-22T00:00:00",
          "2024-03-25T00:00:00",
          "2024-03-26T00:00:00",
          "2024-03-27T00:00:00",
          "2024-03-28T00:00:00",
          "2024-04-01T00:00:00",
          "2024-04-02T00:00:00",
          "2024-04-03T00:00:00",
          "2024-04-04T00:00:00",
          "2024-04-05T00:00:00",
          "2024-04-08T00:00:00",
          "2024-04-09T00:00:00",
          "2024-04-10T00:00:00",
          "2024-04-11T00:00:00",
          "2024-04-12T00:00:00",
          "2024-04-15T00:00:00",
          "2024-04-16T00:00:00",
          "2024-04-17T00:00:00",
          "2024-04-18T00:00:00",
          "2024-04-19T00:00:00",
          "2024-04-22T00:00:00",
          "2024-04-23T00:00:00",
          "2024-04-24T00:00:00",
          "2024-04-25T00:00:00",
          "2024-04-26T00:00:00",
          "2024-04-29T00:00:00",
          "2024-04-30T00:00:00",
          "2024-05-01T00:00:00",
          "2024-05-02T00:00:00",
          "2024-05-03T00:00:00",
          "2024-05-06T00:00:00",
          "2024-05-07T00:00:00",
          "2024-05-08T00:00:00",
          "2024-05-09T00:00:00",
          "2024-05-10T00:00:00",
          "2024-05-13T00:00:00",
          "2024-05-14T00:00:00",
          "2024-05-15T00:00:00",
          "2024-05-16T00:00:00",
          "2024-05-17T00:00:00",
          "2024-05-20T00:00:00",
          "2024-05-21T00:00:00",
          "2024-05-22T00:00:00",
          "2024-05-23T00:00:00",
          "2024-05-24T00:00:00",
          "2024-05-28T00:00:00",
          "2024-05-29T00:00:00",
          "2024-05-30T00:00:00",
          "2024-05-31T00:00:00",
          "2024-06-03T00:00:00",
          "2024-06-04T00:00:00",
          "2024-06-05T00:00:00",
          "2024-06-06T00:00:00",
          "2024-06-07T00:00:00",
          "2024-06-10T00:00:00",
          "2024-06-11T00:00:00",
          "2024-06-12T00:00:00",
          "2024-06-13T00:00:00",
          "2024-06-14T00:00:00",
          "2024-06-17T00:00:00",
          "2024-06-18T00:00:00",
          "2024-06-20T00:00:00",
          "2024-06-21T00:00:00",
          "2024-06-24T00:00:00",
          "2024-06-25T00:00:00",
          "2024-06-26T00:00:00",
          "2024-06-27T00:00:00",
          "2024-06-28T00:00:00",
          "2024-07-01T00:00:00",
          "2024-07-02T00:00:00",
          "2024-07-03T00:00:00",
          "2024-07-05T00:00:00",
          "2024-07-08T00:00:00",
          "2024-07-09T00:00:00",
          "2024-07-10T00:00:00",
          "2024-07-11T00:00:00",
          "2024-07-12T00:00:00",
          "2024-07-15T00:00:00",
          "2024-07-16T00:00:00",
          "2024-07-17T00:00:00",
          "2024-07-18T00:00:00",
          "2024-07-19T00:00:00",
          "2024-07-22T00:00:00",
          "2024-07-23T00:00:00",
          "2024-07-24T00:00:00",
          "2024-07-25T00:00:00",
          "2024-07-26T00:00:00",
          "2024-07-29T00:00:00",
          "2024-07-30T00:00:00",
          "2024-07-31T00:00:00",
          "2024-08-01T00:00:00",
          "2024-08-02T00:00:00",
          "2024-08-05T00:00:00",
          "2024-08-06T00:00:00",
          "2024-08-07T00:00:00",
          "2024-08-08T00:00:00",
          "2024-08-09T00:00:00",
          "2024-08-12T00:00:00",
          "2024-08-13T00:00:00",
          "2024-08-14T00:00:00",
          "2024-08-15T00:00:00",
          "2024-08-16T00:00:00",
          "2024-08-19T00:00:00",
          "2024-08-20T00:00:00",
          "2024-08-21T00:00:00",
          "2024-08-22T00:00:00",
          "2024-08-23T00:00:00",
          "2024-08-26T00:00:00",
          "2024-08-27T00:00:00",
          "2024-08-28T00:00:00",
          "2024-08-29T00:00:00",
          "2024-08-30T00:00:00",
          "2024-09-03T00:00:00",
          "2024-09-04T00:00:00",
          "2024-09-05T00:00:00",
          "2024-09-06T00:00:00",
          "2024-09-09T00:00:00",
          "2024-09-10T00:00:00",
          "2024-09-11T00:00:00",
          "2024-09-12T00:00:00",
          "2024-09-13T00:00:00",
          "2024-09-16T00:00:00",
          "2024-09-17T00:00:00",
          "2024-09-18T00:00:00",
          "2024-09-19T00:00:00",
          "2024-09-20T00:00:00",
          "2024-09-23T00:00:00",
          "2024-09-24T00:00:00",
          "2024-09-25T00:00:00",
          "2024-09-26T00:00:00",
          "2024-09-27T00:00:00",
          "2024-09-30T00:00:00",
          "2024-10-01T00:00:00",
          "2024-10-02T00:00:00",
          "2024-10-03T00:00:00",
          "2024-10-04T00:00:00",
          "2024-10-07T00:00:00",
          "2024-10-08T00:00:00",
          "2024-10-09T00:00:00",
          "2024-10-10T00:00:00",
          "2024-10-11T00:00:00",
          "2024-10-14T00:00:00",
          "2024-10-15T00:00:00",
          "2024-10-16T00:00:00",
          "2024-10-17T00:00:00",
          "2024-10-18T00:00:00",
          "2024-10-21T00:00:00",
          "2024-10-22T00:00:00",
          "2024-10-23T00:00:00",
          "2024-10-24T00:00:00"
         ]
        }
       ],
       "layout": {
        "autosize": true,
        "template": {
         "data": {
          "bar": [
           {
            "error_x": {
             "color": "#2a3f5f"
            },
            "error_y": {
             "color": "#2a3f5f"
            },
            "marker": {
             "line": {
              "color": "#E5ECF6",
              "width": 0.5
             },
             "pattern": {
              "fillmode": "overlay",
              "size": 10,
              "solidity": 0.2
             }
            },
            "type": "bar"
           }
          ],
          "barpolar": [
           {
            "marker": {
             "line": {
              "color": "#E5ECF6",
              "width": 0.5
             },
             "pattern": {
              "fillmode": "overlay",
              "size": 10,
              "solidity": 0.2
             }
            },
            "type": "barpolar"
           }
          ],
          "carpet": [
           {
            "aaxis": {
             "endlinecolor": "#2a3f5f",
             "gridcolor": "white",
             "linecolor": "white",
             "minorgridcolor": "white",
             "startlinecolor": "#2a3f5f"
            },
            "baxis": {
             "endlinecolor": "#2a3f5f",
             "gridcolor": "white",
             "linecolor": "white",
             "minorgridcolor": "white",
             "startlinecolor": "#2a3f5f"
            },
            "type": "carpet"
           }
          ],
          "choropleth": [
           {
            "colorbar": {
             "outlinewidth": 0,
             "ticks": ""
            },
            "type": "choropleth"
           }
          ],
          "contour": [
           {
            "colorbar": {
             "outlinewidth": 0,
             "ticks": ""
            },
            "colorscale": [
             [
              0,
              "#0d0887"
             ],
             [
              0.1111111111111111,
              "#46039f"
             ],
             [
              0.2222222222222222,
              "#7201a8"
             ],
             [
              0.3333333333333333,
              "#9c179e"
             ],
             [
              0.4444444444444444,
              "#bd3786"
             ],
             [
              0.5555555555555556,
              "#d8576b"
             ],
             [
              0.6666666666666666,
              "#ed7953"
             ],
             [
              0.7777777777777778,
              "#fb9f3a"
             ],
             [
              0.8888888888888888,
              "#fdca26"
             ],
             [
              1,
              "#f0f921"
             ]
            ],
            "type": "contour"
           }
          ],
          "contourcarpet": [
           {
            "colorbar": {
             "outlinewidth": 0,
             "ticks": ""
            },
            "type": "contourcarpet"
           }
          ],
          "heatmap": [
           {
            "colorbar": {
             "outlinewidth": 0,
             "ticks": ""
            },
            "colorscale": [
             [
              0,
              "#0d0887"
             ],
             [
              0.1111111111111111,
              "#46039f"
             ],
             [
              0.2222222222222222,
              "#7201a8"
             ],
             [
              0.3333333333333333,
              "#9c179e"
             ],
             [
              0.4444444444444444,
              "#bd3786"
             ],
             [
              0.5555555555555556,
              "#d8576b"
             ],
             [
              0.6666666666666666,
              "#ed7953"
             ],
             [
              0.7777777777777778,
              "#fb9f3a"
             ],
             [
              0.8888888888888888,
              "#fdca26"
             ],
             [
              1,
              "#f0f921"
             ]
            ],
            "type": "heatmap"
           }
          ],
          "heatmapgl": [
           {
            "colorbar": {
             "outlinewidth": 0,
             "ticks": ""
            },
            "colorscale": [
             [
              0,
              "#0d0887"
             ],
             [
              0.1111111111111111,
              "#46039f"
             ],
             [
              0.2222222222222222,
              "#7201a8"
             ],
             [
              0.3333333333333333,
              "#9c179e"
             ],
             [
              0.4444444444444444,
              "#bd3786"
             ],
             [
              0.5555555555555556,
              "#d8576b"
             ],
             [
              0.6666666666666666,
              "#ed7953"
             ],
             [
              0.7777777777777778,
              "#fb9f3a"
             ],
             [
              0.8888888888888888,
              "#fdca26"
             ],
             [
              1,
              "#f0f921"
             ]
            ],
            "type": "heatmapgl"
           }
          ],
          "histogram": [
           {
            "marker": {
             "pattern": {
              "fillmode": "overlay",
              "size": 10,
              "solidity": 0.2
             }
            },
            "type": "histogram"
           }
          ],
          "histogram2d": [
           {
            "colorbar": {
             "outlinewidth": 0,
             "ticks": ""
            },
            "colorscale": [
             [
              0,
              "#0d0887"
             ],
             [
              0.1111111111111111,
              "#46039f"
             ],
             [
              0.2222222222222222,
              "#7201a8"
             ],
             [
              0.3333333333333333,
              "#9c179e"
             ],
             [
              0.4444444444444444,
              "#bd3786"
             ],
             [
              0.5555555555555556,
              "#d8576b"
             ],
             [
              0.6666666666666666,
              "#ed7953"
             ],
             [
              0.7777777777777778,
              "#fb9f3a"
             ],
             [
              0.8888888888888888,
              "#fdca26"
             ],
             [
              1,
              "#f0f921"
             ]
            ],
            "type": "histogram2d"
           }
          ],
          "histogram2dcontour": [
           {
            "colorbar": {
             "outlinewidth": 0,
             "ticks": ""
            },
            "colorscale": [
             [
              0,
              "#0d0887"
             ],
             [
              0.1111111111111111,
              "#46039f"
             ],
             [
              0.2222222222222222,
              "#7201a8"
             ],
             [
              0.3333333333333333,
              "#9c179e"
             ],
             [
              0.4444444444444444,
              "#bd3786"
             ],
             [
              0.5555555555555556,
              "#d8576b"
             ],
             [
              0.6666666666666666,
              "#ed7953"
             ],
             [
              0.7777777777777778,
              "#fb9f3a"
             ],
             [
              0.8888888888888888,
              "#fdca26"
             ],
             [
              1,
              "#f0f921"
             ]
            ],
            "type": "histogram2dcontour"
           }
          ],
          "mesh3d": [
           {
            "colorbar": {
             "outlinewidth": 0,
             "ticks": ""
            },
            "type": "mesh3d"
           }
          ],
          "parcoords": [
           {
            "line": {
             "colorbar": {
              "outlinewidth": 0,
              "ticks": ""
             }
            },
            "type": "parcoords"
           }
          ],
          "pie": [
           {
            "automargin": true,
            "type": "pie"
           }
          ],
          "scatter": [
           {
            "fillpattern": {
             "fillmode": "overlay",
             "size": 10,
             "solidity": 0.2
            },
            "type": "scatter"
           }
          ],
          "scatter3d": [
           {
            "line": {
             "colorbar": {
              "outlinewidth": 0,
              "ticks": ""
             }
            },
            "marker": {
             "colorbar": {
              "outlinewidth": 0,
              "ticks": ""
             }
            },
            "type": "scatter3d"
           }
          ],
          "scattercarpet": [
           {
            "marker": {
             "colorbar": {
              "outlinewidth": 0,
              "ticks": ""
             }
            },
            "type": "scattercarpet"
           }
          ],
          "scattergeo": [
           {
            "marker": {
             "colorbar": {
              "outlinewidth": 0,
              "ticks": ""
             }
            },
            "type": "scattergeo"
           }
          ],
          "scattergl": [
           {
            "marker": {
             "colorbar": {
              "outlinewidth": 0,
              "ticks": ""
             }
            },
            "type": "scattergl"
           }
          ],
          "scattermapbox": [
           {
            "marker": {
             "colorbar": {
              "outlinewidth": 0,
              "ticks": ""
             }
            },
            "type": "scattermapbox"
           }
          ],
          "scatterpolar": [
           {
            "marker": {
             "colorbar": {
              "outlinewidth": 0,
              "ticks": ""
             }
            },
            "type": "scatterpolar"
           }
          ],
          "scatterpolargl": [
           {
            "marker": {
             "colorbar": {
              "outlinewidth": 0,
              "ticks": ""
             }
            },
            "type": "scatterpolargl"
           }
          ],
          "scatterternary": [
           {
            "marker": {
             "colorbar": {
              "outlinewidth": 0,
              "ticks": ""
             }
            },
            "type": "scatterternary"
           }
          ],
          "surface": [
           {
            "colorbar": {
             "outlinewidth": 0,
             "ticks": ""
            },
            "colorscale": [
             [
              0,
              "#0d0887"
             ],
             [
              0.1111111111111111,
              "#46039f"
             ],
             [
              0.2222222222222222,
              "#7201a8"
             ],
             [
              0.3333333333333333,
              "#9c179e"
             ],
             [
              0.4444444444444444,
              "#bd3786"
             ],
             [
              0.5555555555555556,
              "#d8576b"
             ],
             [
              0.6666666666666666,
              "#ed7953"
             ],
             [
              0.7777777777777778,
              "#fb9f3a"
             ],
             [
              0.8888888888888888,
              "#fdca26"
             ],
             [
              1,
              "#f0f921"
             ]
            ],
            "type": "surface"
           }
          ],
          "table": [
           {
            "cells": {
             "fill": {
              "color": "#EBF0F8"
             },
             "line": {
              "color": "white"
             }
            },
            "header": {
             "fill": {
              "color": "#C8D4E3"
             },
             "line": {
              "color": "white"
             }
            },
            "type": "table"
           }
          ]
         },
         "layout": {
          "annotationdefaults": {
           "arrowcolor": "#2a3f5f",
           "arrowhead": 0,
           "arrowwidth": 1
          },
          "autotypenumbers": "strict",
          "coloraxis": {
           "colorbar": {
            "outlinewidth": 0,
            "ticks": ""
           }
          },
          "colorscale": {
           "diverging": [
            [
             0,
             "#8e0152"
            ],
            [
             0.1,
             "#c51b7d"
            ],
            [
             0.2,
             "#de77ae"
            ],
            [
             0.3,
             "#f1b6da"
            ],
            [
             0.4,
             "#fde0ef"
            ],
            [
             0.5,
             "#f7f7f7"
            ],
            [
             0.6,
             "#e6f5d0"
            ],
            [
             0.7,
             "#b8e186"
            ],
            [
             0.8,
             "#7fbc41"
            ],
            [
             0.9,
             "#4d9221"
            ],
            [
             1,
             "#276419"
            ]
           ],
           "sequential": [
            [
             0,
             "#0d0887"
            ],
            [
             0.1111111111111111,
             "#46039f"
            ],
            [
             0.2222222222222222,
             "#7201a8"
            ],
            [
             0.3333333333333333,
             "#9c179e"
            ],
            [
             0.4444444444444444,
             "#bd3786"
            ],
            [
             0.5555555555555556,
             "#d8576b"
            ],
            [
             0.6666666666666666,
             "#ed7953"
            ],
            [
             0.7777777777777778,
             "#fb9f3a"
            ],
            [
             0.8888888888888888,
             "#fdca26"
            ],
            [
             1,
             "#f0f921"
            ]
           ],
           "sequentialminus": [
            [
             0,
             "#0d0887"
            ],
            [
             0.1111111111111111,
             "#46039f"
            ],
            [
             0.2222222222222222,
             "#7201a8"
            ],
            [
             0.3333333333333333,
             "#9c179e"
            ],
            [
             0.4444444444444444,
             "#bd3786"
            ],
            [
             0.5555555555555556,
             "#d8576b"
            ],
            [
             0.6666666666666666,
             "#ed7953"
            ],
            [
             0.7777777777777778,
             "#fb9f3a"
            ],
            [
             0.8888888888888888,
             "#fdca26"
            ],
            [
             1,
             "#f0f921"
            ]
           ]
          },
          "colorway": [
           "#636efa",
           "#EF553B",
           "#00cc96",
           "#ab63fa",
           "#FFA15A",
           "#19d3f3",
           "#FF6692",
           "#B6E880",
           "#FF97FF",
           "#FECB52"
          ],
          "font": {
           "color": "#2a3f5f"
          },
          "geo": {
           "bgcolor": "white",
           "lakecolor": "white",
           "landcolor": "#E5ECF6",
           "showlakes": true,
           "showland": true,
           "subunitcolor": "white"
          },
          "hoverlabel": {
           "align": "left"
          },
          "hovermode": "closest",
          "mapbox": {
           "style": "light"
          },
          "paper_bgcolor": "white",
          "plot_bgcolor": "#E5ECF6",
          "polar": {
           "angularaxis": {
            "gridcolor": "white",
            "linecolor": "white",
            "ticks": ""
           },
           "bgcolor": "#E5ECF6",
           "radialaxis": {
            "gridcolor": "white",
            "linecolor": "white",
            "ticks": ""
           }
          },
          "scene": {
           "xaxis": {
            "backgroundcolor": "#E5ECF6",
            "gridcolor": "white",
            "gridwidth": 2,
            "linecolor": "white",
            "showbackground": true,
            "ticks": "",
            "zerolinecolor": "white"
           },
           "yaxis": {
            "backgroundcolor": "#E5ECF6",
            "gridcolor": "white",
            "gridwidth": 2,
            "linecolor": "white",
            "showbackground": true,
            "ticks": "",
            "zerolinecolor": "white"
           },
           "zaxis": {
            "backgroundcolor": "#E5ECF6",
            "gridcolor": "white",
            "gridwidth": 2,
            "linecolor": "white",
            "showbackground": true,
            "ticks": "",
            "zerolinecolor": "white"
           }
          },
          "shapedefaults": {
           "line": {
            "color": "#2a3f5f"
           }
          },
          "ternary": {
           "aaxis": {
            "gridcolor": "white",
            "linecolor": "white",
            "ticks": ""
           },
           "baxis": {
            "gridcolor": "white",
            "linecolor": "white",
            "ticks": ""
           },
           "bgcolor": "#E5ECF6",
           "caxis": {
            "gridcolor": "white",
            "linecolor": "white",
            "ticks": ""
           }
          },
          "title": {
           "x": 0.05
          },
          "xaxis": {
           "automargin": true,
           "gridcolor": "white",
           "linecolor": "white",
           "ticks": "",
           "title": {
            "standoff": 15
           },
           "zerolinecolor": "white",
           "zerolinewidth": 2
          },
          "yaxis": {
           "automargin": true,
           "gridcolor": "white",
           "linecolor": "white",
           "ticks": "",
           "title": {
            "standoff": 15
           },
           "zerolinecolor": "white",
           "zerolinewidth": 2
          }
         }
        },
        "xaxis": {
         "autorange": false,
         "range": [
          "2024-01-12 18:27:48.476",
          "2024-02-20 06:38:19.7912"
         ],
         "rangeslider": {
          "autorange": true,
          "range": [
           "2023-12-19 12:00",
           "2024-10-24 12:00"
          ],
          "yaxis": {
           "_template": null,
           "rangemode": "match"
          }
         },
         "type": "date"
        },
        "yaxis": {
         "autorange": true,
         "range": [
          140.875003390842,
          204.374996609158
         ]
        }
       }
      },
      "image/png": "[encoded data removed]",
      "text/html": [
       "<div>                            <div id=\"d5f0d844-9471-432e-b189-fa158b42d30b\" class=\"plotly-graph-div\" style=\"height:525px; width:100%;\"></div>            <script type=\"text/javascript\">                require([\"plotly\"], function(Plotly) {                    window.PLOTLYENV=window.PLOTLYENV || {};                                    if (document.getElementById(\"d5f0d844-9471-432e-b189-fa158b42d30b\")) {                    Plotly.newPlot(                        \"d5f0d844-9471-432e-b189-fa158b42d30b\",                        [{\"close\":[152.1199951171875,153.83999633789062,153.4199981689453,153.41000366210938,153.33999633789062,153.3800048828125,151.94000244140625,149.92999267578125,148.47000122070312,144.57000732421875,145.24000549316406,149.10000610351562,151.3699951171875,153.72999572753906,155.17999267578125,154.6199951171875,153.16000366210938,151.7100067138672,153.5,155.33999633789062,154.77999877929688,156.02000427246094,156.8699951171875,157.75,159.1199951171875,161.25999450683594,159.0,155.1999969482422,159.27999877929688,171.80999755859375,170.30999755859375,169.14999389648438,170.52999877929688,169.83999633789062,174.4499969482422,172.33999633789062,168.63999938964844,170.97999572753906,169.8000030517578,169.50999450683594,167.0800018310547,168.58999633789062,174.5800018310547,174.99000549316406,174.72999572753906,173.5399932861328,173.16000366210938,176.75999450683594,178.22000122070312,177.5800018310547,174.1199951171875,173.50999450683594,176.82000732421875,175.35000610351562,171.9600067138672,175.38999938964844,176.55999755859375,178.75,174.4199981689453,174.47999572753906,175.89999389648438,178.14999389648438,178.14999389648438,178.8699951171875,179.7100067138672,178.3000030517578,179.8300018310547,180.3800048828125,180.97000122070312,180.69000244140625,182.41000366210938,180.0,185.07000732421875,185.19000244140625,185.6699981689453,185.9499969482422,189.0500030517578,186.1300048828125,183.6199951171875,183.32000732421875,181.27999877929688,179.22000122070312,174.6300048828125,177.22999572753906,179.5399932861328,176.58999633789062,173.6699981689453,179.6199951171875,180.9600067138672,175.0,179.0,184.72000122070312,186.2100067138672,188.6999969482422,188.75999450683594,188.0,189.5,187.47999572753906,186.57000732421875,187.07000732421875,185.99000549316406,183.6300048828125,184.6999969482422,183.5399932861328,183.14999389648438,183.1300048828125,181.0500030517578,180.75,182.14999389648438,182.02000427246094,179.32000732421875,176.44000244140625,178.33999633789062,179.33999633789062,181.27999877929688,185.0,184.3000030517578,187.05999755859375,187.22999572753906,186.88999938964844,183.8300018310547,183.66000366210938,184.05999755859375,182.80999755859375,186.10000610351562,189.0800018310547,185.57000732421875,186.33999633789062,193.61000061035156,197.85000610351562,193.25,197.1999969482422,200.0,197.58999633789062,200.0,199.2899932861328,199.33999633789062,199.7899932861328,195.0500030517578,194.49000549316406,192.72000122070312,193.02000427246094,187.92999267578125,183.75,183.1300048828125,182.5500030517578,186.41000366210938,180.8300018310547,179.85000610351562,182.5,183.1999969482422,181.7100067138672,186.97999572753906,184.07000732421875,167.89999389648438,161.02000427246094,161.92999267578125,162.77000427246094,165.8000030517578,166.94000244140625,166.8000030517578,170.22999572753906,170.10000610351562,177.58999633789062,177.05999755859375,178.22000122070312,178.8800048828125,180.11000061035156,176.1300048828125,177.0399932861328,175.5,173.1199951171875,170.8000030517578,172.1199951171875,178.5,176.25,173.3300018310547,177.88999938964844,171.38999938964844,175.39999389648438,179.5500030517578,184.52000427246094,187.0,186.49000549316406,184.88999938964844,186.8800048828125,186.42999267578125,189.8699951171875,191.60000610351562,193.8800048828125,193.9600067138672,192.52999877929688,191.16000366210938,187.97000122070312,186.3300018310547,185.1300048828125,184.75999450683594,181.9600067138672,186.50999450683594,180.8000030517578,182.72000122070312,185.1699981689453,186.64999389648438,188.82000732421875,187.5399932861328,187.69000244140625,186.88999938964844,187.52999877929688,188.99000549316406,189.07000732421875,189.6999969482422,184.7100067138672,186.3800048828125],\"high\":[155.6300048828125,153.97000122070312,154.35000610351562,153.97999572753906,154.77999877929688,154.0800018310547,153.88999938964844,152.3800048828125,151.0500030517578,147.3800048828125,146.58999633789062,149.39999389648438,151.7100067138672,154.4199981689453,157.1699981689453,156.1999969482422,154.99000549316406,152.14999389648438,153.77999877929688,155.75999450683594,157.0500030517578,156.2100067138672,158.50999450683594,158.50999450683594,160.72000122070312,161.2899932861328,161.72999572753906,159.00999450683594,159.75999450683594,172.5,170.5500030517578,170.7100067138672,170.8800048828125,171.42999267578125,175.0,175.38999938964844,170.9499969482422,171.2100067138672,171.1699981689453,170.4199981689453,168.7100067138672,170.22999572753906,174.8000030517578,175.75,176.3699951171875,174.6199951171875,174.0500030517578,177.22000122070312,178.72999572753906,180.13999938964844,176.92999267578125,176.4600067138672,177.99000549316406,178.7899932861328,174.47000122070312,176.75999450683594,177.6199951171875,179.52999877929688,177.92999267578125,176.69000244140625,176.08999633789062,178.52999877929688,181.4199981689453,179.25999450683594,180.99000549316406,180.4499969482422,180.0,181.6999969482422,183.0,180.7899932861328,182.8699951171875,185.10000610351562,186.27000427246094,187.2899932861328,187.33999633789062,186.27000427246094,189.77000427246094,188.3800048828125,188.69000244140625,184.8300018310547,184.57000732421875,182.38999938964844,179.0,178.8699951171875,179.92999267578125,180.32000732421875,173.9199981689453,180.82000732421875,183.52999877929688,182.99000549316406,185.14999389648438,185.10000610351562,187.8699951171875,188.75,189.94000244140625,188.42999267578125,191.6999969482422,189.88999938964844,188.30999755859375,187.72000122070312,186.72000122070312,187.30999755859375,185.3000030517578,186.6699981689453,183.25999450683594,185.22000122070312,184.75999450683594,182.44000244140625,182.24000549316406,184.0800018310547,181.33999633789062,179.2100067138672,178.6999969482422,179.82000732421875,181.5,185.0,186.2899932861328,187.22999572753906,187.77000427246094,188.35000610351562,187.6699981689453,183.72000122070312,185.0,184.2899932861328,186.50999450683594,189.27999877929688,191.0,188.83999633789062,194.8000030517578,199.83999633789062,198.85000610351562,198.3000030517578,200.42999267578125,200.02999877929688,200.5500030517578,201.1999969482422,200.57000732421875,200.11000061035156,200.27000427246094,196.47000122070312,196.19000244140625,196.6199951171875,191.5800018310547,189.67999267578125,184.92999267578125,185.05999755859375,189.38999938964844,185.4499969482422,183.89999389648438,183.19000244140625,184.75,185.86000061035156,187.94000244140625,190.60000610351562,168.77000427246094,162.9600067138672,165.0800018310547,167.5800018310547,166.69000244140625,168.5500030517578,168.5500030517578,171.0399932861328,172.27999877929688,177.91000366210938,178.33999633789062,178.3000030517578,179.00999450683594,182.38999938964844,181.47000122070312,178.97000122070312,177.47000122070312,174.88999938964844,173.69000244140625,174.2899932861328,178.89999389648438,178.25999450683594,175.97999572753906,179.8800048828125,178.3800048828125,175.85000610351562,180.5,184.99000549316406,187.41000366210938,188.5,185.80999755859375,189.4499969482422,188.8000030517578,190.99000549316406,191.83999633789062,194.4499969482422,195.3699951171875,193.9499969482422,194.52999877929688,190.89999389648438,188.49000549316406,186.19000244140625,186.60000610351562,183.44000244140625,187.60000610351562,183.60000610351562,183.08999633789062,185.85000610351562,188.1300048828125,189.92999267578125,189.8300018310547,188.41000366210938,187.77999877929688,188.94000244140625,190.74000549316406,189.4600067138672,191.52000427246094,189.16000366210938,187.11000061035156],\"low\":[151.55999755859375,152.10000610351562,152.7100067138672,153.02999877929688,153.1199951171875,152.9499969482422,151.02999877929688,148.38999938964844,148.3300018310547,144.0500030517578,144.52999877929688,146.14999389648438,148.2100067138672,151.8800048828125,153.1199951171875,154.00999450683594,152.14999389648438,149.91000366210938,151.82000732421875,152.74000549316406,153.89999389648438,153.92999267578125,156.47999572753906,154.5500030517578,157.91000366210938,158.89999389648438,158.49000549316406,154.80999755859375,155.6199951171875,167.3300018310547,167.6999969482422,167.64999389648438,168.94000244140625,168.8800048828125,170.5800018310547,171.5399932861328,165.75,168.27999877929688,167.58999633789062,167.1699981689453,165.74000549316406,167.13999938964844,171.77000427246094,173.6999969482422,174.25999450683594,172.86000061035156,172.27000427246094,172.85000610351562,176.07000732421875,177.49000549316406,173.3000030517578,173.25999450683594,173.72000122070312,174.3300018310547,171.47000122070312,171.97999572753906,175.5500030517578,176.47000122070312,173.89999389648438,174.27999877929688,173.52000427246094,174.63999938964844,178.14999389648438,176.75,177.24000549316406,177.9499969482422,177.30999755859375,179.25999450683594,179.9499969482422,178.3800048828125,179.8000030517578,180.0,181.97000122070312,184.80999755859375,184.1999969482422,182.6699981689453,185.50999450683594,185.0800018310547,183.0,182.25999450683594,179.82000732421875,178.64999389648438,173.44000244140625,174.55999755859375,175.97999572753906,176.17999267578125,166.32000732421875,176.1300048828125,179.38999938964844,174.8000030517578,176.55999755859375,179.91000366210938,185.4199981689453,184.8000030517578,187.30999755859375,186.38999938964844,187.44000244140625,186.92999267578125,185.36000061035156,183.4499969482422,182.72999572753906,183.4600067138672,183.35000610351562,183.27999877929688,180.75,181.97000122070312,180.0800018310547,180.3000030517578,179.49000549316406,181.5500030517578,178.36000061035156,173.8699951171875,175.9199981689453,176.44000244140625,178.75,181.49000549316406,183.36000061035156,183.7899932861328,184.5399932861328,185.42999267578125,182.6699981689453,182.22999572753906,181.22000122070312,181.42999267578125,182.72000122070312,185.86000061035156,185.3300018310547,185.4199981689453,186.25999450683594,194.1999969482422,192.5,192.82000732421875,195.92999267578125,196.75999450683594,198.1699981689453,197.9600067138672,199.0500030517578,197.69000244140625,192.86000061035156,193.8300018310547,190.8300018310547,192.24000549316406,185.99000549316406,181.4499969482422,180.11000061035156,182.47999572753906,183.55999755859375,180.41000366210938,176.8000030517578,180.24000549316406,182.3800048828125,179.3800048828125,184.4600067138672,181.8699951171875,160.5500030517578,151.61000061035156,158.5399932861328,161.42999267578125,162.5500030517578,165.85000610351562,166.11000061035156,167.10000610351562,168.86000061035156,173.99000549316406,176.25999450683594,176.16000366210938,177.42999267578125,178.88999938964844,175.67999267578125,175.24000549316406,174.3000030517578,172.25,168.9199981689453,170.80999755859375,172.60000610351562,175.25999450683594,172.5399932861328,175.0,171.16000366210938,173.50999450683594,176.7899932861328,175.72999572753906,183.5399932861328,185.91000366210938,183.36000061035156,186.13999938964844,185.05999755859375,188.47000122070312,187.41000366210938,190.57000732421875,190.1300048828125,192.16000366210938,189.5399932861328,187.33999633789062,184.64999389648438,183.4499969482422,184.0399932861328,180.8800048828125,183.60000610351562,180.25,180.9199981689453,182.0500030517578,185.8300018310547,186.3000030517578,187.36000061035156,184.5800018310547,185.61000061035156,186.0,186.27999877929688,186.39999389648438,186.97999572753906,183.69000244140625,183.86000061035156],\"open\":[152.89999389648438,153.3000030517578,153.77000427246094,153.55999755859375,153.55999755859375,153.72000122070312,153.10000610351562,151.5399932861328,149.1999969482422,145.58999633789062,144.69000244140625,146.74000549316406,148.3300018310547,152.05999755859375,155.0399932861328,155.38999938964844,153.52999877929688,151.49000549316406,152.77000427246094,153.8300018310547,156.88999938964844,154.85000610351562,157.8000030517578,156.9499969482422,158.4199981689453,159.33999633789062,160.6999969482422,157.0,155.8699951171875,169.19000244140625,170.1999969482422,169.38999938964844,169.47999572753906,169.64999389648438,170.89999389648438,174.8000030517578,167.72999572753906,169.2100067138672,170.5800018310547,168.74000549316406,167.8300018310547,168.94000244140625,173.10000610351562,174.27999877929688,175.6999969482422,174.0800018310547,172.44000244140625,173.00999450683594,176.75,177.52999877929688,176.92999267578125,175.5399932861328,174.8300018310547,176.44000244140625,174.30999755859375,173.5,175.89999389648438,177.69000244140625,176.63999938964844,175.8000030517578,174.22000122070312,176.13999938964844,179.99000549316406,177.75,178.00999450683594,180.14999389648438,179.8800048828125,180.1699981689453,180.7899932861328,179.07000732421875,179.89999389648438,184.0,182.3800048828125,186.89999389648438,187.24000549316406,182.77000427246094,186.74000549316406,187.72000122070312,187.42999267578125,183.27000427246094,184.30999755859375,181.47000122070312,178.74000549316406,176.94000244140625,178.0800018310547,179.94000244140625,169.67999267578125,177.8000030517578,182.75,181.08999633789062,181.63999938964844,180.85000610351562,186.99000549316406,186.27999877929688,188.9199981689453,187.44000244140625,188.8800048828125,189.16000366210938,188.0,183.82000732421875,185.97000122070312,185.60000610351562,183.75999450683594,184.33999633789062,182.3000030517578,183.8800048828125,183.66000366210938,181.64999389648438,179.92999267578125,181.6999969482422,181.30999755859375,178.3000030517578,177.6999969482422,177.63999938964844,180.10000610351562,181.75,184.89999389648438,184.07000732421875,187.05999755859375,188.02000427246094,186.08999633789062,183.0800018310547,182.52000427246094,183.74000549316406,182.91000366210938,187.8000030517578,189.3300018310547,186.80999755859375,186.9199981689453,195.00999450683594,197.72999572753906,193.49000549316406,197.27999877929688,199.94000244140625,198.64999389648438,200.0399932861328,199.39999389648438,200.0,200.08999633789062,194.8000030517578,194.55999755859375,195.58999633789062,191.35000610351562,189.58999633789062,181.13999938964844,185.0,184.10000610351562,183.1999969482422,182.91000366210938,180.38999938964844,183.83999633789062,184.72000122070312,185.0500030517578,189.2899932861328,166.75,154.2100067138672,161.7100067138672,166.5500030517578,165.1699981689453,166.39999389648438,168.13999938964844,167.80999755859375,172.11000061035156,174.86000061035156,177.0399932861328,177.63999938964844,177.9199981689453,179.9199981689453,181.3800048828125,177.33999633789062,176.6999969482422,174.14999389648438,173.69000244140625,173.22000122070312,172.77999877929688,177.5500030517578,174.47999572753906,175.0,177.24000549316406,174.52999877929688,177.49000549316406,180.10000610351562,184.8000030517578,187.0,185.2899932861328,186.85000610351562,186.4499969482422,190.0399932861328,190.22999572753906,191.63999938964844,194.27000427246094,193.75,194.30999755859375,190.67999267578125,187.13999938964844,184.89999389648438,184.44000244140625,183.0500030517578,185.75,182.9499969482422,181.9199981689453,182.82000732421875,187.1300048828125,186.6300048828125,189.77999877929688,187.6300048828125,187.0500030517578,188.22000122070312,187.14999389648438,188.0500030517578,188.35000610351562,188.85000610351562,185.25],\"x\":[\"2023-12-20T00:00:00\",\"2023-12-21T00:00:00\",\"2023-12-22T00:00:00\",\"2023-12-26T00:00:00\",\"2023-12-27T00:00:00\",\"2023-12-28T00:00:00\",\"2023-12-29T00:00:00\",\"2024-01-02T00:00:00\",\"2024-01-03T00:00:00\",\"2024-01-04T00:00:00\",\"2024-01-05T00:00:00\",\"2024-01-08T00:00:00\",\"2024-01-09T00:00:00\",\"2024-01-10T00:00:00\",\"2024-01-11T00:00:00\",\"2024-01-12T00:00:00\",\"2024-01-16T00:00:00\",\"2024-01-17T00:00:00\",\"2024-01-18T00:00:00\",\"2024-01-19T00:00:00\",\"2024-01-22T00:00:00\",\"2024-01-23T00:00:00\",\"2024-01-24T00:00:00\",\"2024-01-25T00:00:00\",\"2024-01-26T00:00:00\",\"2024-01-29T00:00:00\",\"2024-01-30T00:00:00\",\"2024-01-31T00:00:00\",\"2024-02-01T00:00:00\",\"2024-02-02T00:00:00\",\"2024-02-05T00:00:00\",\"2024-02-06T00:00:00\",\"2024-02-07T00:00:00\",\"2024-02-08T00:00:00\",\"2024-02-09T00:00:00\",\"2024-02-12T00:00:00\",\"2024-02-13T00:00:00\",\"2024-02-14T00:00:00\",\"2024-02-15T00:00:00\",\"2024-02-16T00:00:00\",\"2024-02-20T00:00:00\",\"2024-02-21T00:00:00\",\"2024-02-22T00:00:00\",\"2024-02-23T00:00:00\",\"2024-02-26T00:00:00\",\"2024-02-27T00:00:00\",\"2024-02-28T00:00:00\",\"2024-02-29T00:00:00\",\"2024-03-01T00:00:00\",\"2024-03-04T00:00:00\",\"2024-03-05T00:00:00\",\"2024-03-06T00:00:00\",\"2024-03-07T00:00:00\",\"2024-03-08T00:00:00\",\"2024-03-11T00:00:00\",\"2024-03-12T00:00:00\",\"2024-03-13T00:00:00\",\"2024-03-14T00:00:00\",\"2024-03-15T00:00:00\",\"2024-03-18T00:00:00\",\"2024-03-19T00:00:00\",\"2024-03-20T00:00:00\",\"2024-03-21T00:00:00\",\"2024-03-22T00:00:00\",\"2024-03-25T00:00:00\",\"2024-03-26T00:00:00\",\"2024-03-27T00:00:00\",\"2024-03-28T00:00:00\",\"2024-04-01T00:00:00\",\"2024-04-02T00:00:00\",\"2024-04-03T00:00:00\",\"2024-04-04T00:00:00\",\"2024-04-05T00:00:00\",\"2024-04-08T00:00:00\",\"2024-04-09T00:00:00\",\"2024-04-10T00:00:00\",\"2024-04-11T00:00:00\",\"2024-04-12T00:00:00\",\"2024-04-15T00:00:00\",\"2024-04-16T00:00:00\",\"2024-04-17T00:00:00\",\"2024-04-18T00:00:00\",\"2024-04-19T00:00:00\",\"2024-04-22T00:00:00\",\"2024-04-23T00:00:00\",\"2024-04-24T00:00:00\",\"2024-04-25T00:00:00\",\"2024-04-26T00:00:00\",\"2024-04-29T00:00:00\",\"2024-04-30T00:00:00\",\"2024-05-01T00:00:00\",\"2024-05-02T00:00:00\",\"2024-05-03T00:00:00\",\"2024-05-06T00:00:00\",\"2024-05-07T00:00:00\",\"2024-05-08T00:00:00\",\"2024-05-09T00:00:00\",\"2024-05-10T00:00:00\",\"2024-05-13T00:00:00\",\"2024-05-14T00:00:00\",\"2024-05-15T00:00:00\",\"2024-05-16T00:00:00\",\"2024-05-17T00:00:00\",\"2024-05-20T00:00:00\",\"2024-05-21T00:00:00\",\"2024-05-22T00:00:00\",\"2024-05-23T00:00:00\",\"2024-05-24T00:00:00\",\"2024-05-28T00:00:00\",\"2024-05-29T00:00:00\",\"2024-05-30T00:00:00\",\"2024-05-31T00:00:00\",\"2024-06-03T00:00:00\",\"2024-06-04T00:00:00\",\"2024-06-05T00:00:00\",\"2024-06-06T00:00:00\",\"2024-06-07T00:00:00\",\"2024-06-10T00:00:00\",\"2024-06-11T00:00:00\",\"2024-06-12T00:00:00\",\"2024-06-13T00:00:00\",\"2024-06-14T00:00:00\",\"2024-06-17T00:00:00\",\"2024-06-18T00:00:00\",\"2024-06-20T00:00:00\",\"2024-06-21T00:00:00\",\"2024-06-24T00:00:00\",\"2024-06-25T00:00:00\",\"2024-06-26T00:00:00\",\"2024-06-27T00:00:00\",\"2024-06-28T00:00:00\",\"2024-07-01T00:00:00\",\"2024-07-02T00:00:00\",\"2024-07-03T00:00:00\",\"2024-07-05T00:00:00\",\"2024-07-08T00:00:00\",\"2024-07-09T00:00:00\",\"2024-07-10T00:00:00\",\"2024-07-11T00:00:00\",\"2024-07-12T00:00:00\",\"2024-07-15T00:00:00\",\"2024-07-16T00:00:00\",\"2024-07-17T00:00:00\",\"2024-07-18T00:00:00\",\"2024-07-19T00:00:00\",\"2024-07-22T00:00:00\",\"2024-07-23T00:00:00\",\"2024-07-24T00:00:00\",\"2024-07-25T00:00:00\",\"2024-07-26T00:00:00\",\"2024-07-29T00:00:00\",\"2024-07-30T00:00:00\",\"2024-07-31T00:00:00\",\"2024-08-01T00:00:00\",\"2024-08-02T00:00:00\",\"2024-08-05T00:00:00\",\"2024-08-06T00:00:00\",\"2024-08-07T00:00:00\",\"2024-08-08T00:00:00\",\"2024-08-09T00:00:00\",\"2024-08-12T00:00:00\",\"2024-08-13T00:00:00\",\"2024-08-14T00:00:00\",\"2024-08-15T00:00:00\",\"2024-08-16T00:00:00\",\"2024-08-19T00:00:00\",\"2024-08-20T00:00:00\",\"2024-08-21T00:00:00\",\"2024-08-22T00:00:00\",\"2024-08-23T00:00:00\",\"2024-08-26T00:00:00\",\"2024-08-27T00:00:00\",\"2024-08-28T00:00:00\",\"2024-08-29T00:00:00\",\"2024-08-30T00:00:00\",\"2024-09-03T00:00:00\",\"2024-09-04T00:00:00\",\"2024-09-05T00:00:00\",\"2024-09-06T00:00:00\",\"2024-09-09T00:00:00\",\"2024-09-10T00:00:00\",\"2024-09-11T00:00:00\",\"2024-09-12T00:00:00\",\"2024-09-13T00:00:00\",\"2024-09-16T00:00:00\",\"2024-09-17T00:00:00\",\"2024-09-18T00:00:00\",\"2024-09-19T00:00:00\",\"2024-09-20T00:00:00\",\"2024-09-23T00:00:00\",\"2024-09-24T00:00:00\",\"2024-09-25T00:00:00\",\"2024-09-26T00:00:00\",\"2024-09-27T00:00:00\",\"2024-09-30T00:00:00\",\"2024-10-01T00:00:00\",\"2024-10-02T00:00:00\",\"2024-10-03T00:00:00\",\"2024-10-04T00:00:00\",\"2024-10-07T00:00:00\",\"2024-10-08T00:00:00\",\"2024-10-09T00:00:00\",\"2024-10-10T00:00:00\",\"2024-10-11T00:00:00\",\"2024-10-14T00:00:00\",\"2024-10-15T00:00:00\",\"2024-10-16T00:00:00\",\"2024-10-17T00:00:00\",\"2024-10-18T00:00:00\",\"2024-10-21T00:00:00\",\"2024-10-22T00:00:00\",\"2024-10-23T00:00:00\",\"2024-10-24T00:00:00\"],\"type\":\"candlestick\"}],                        {\"template\":{\"data\":{\"histogram2dcontour\":[{\"type\":\"histogram2dcontour\",\"colorbar\":{\"outlinewidth\":0,\"ticks\":\"\"},\"colorscale\":[[0.0,\"#0d0887\"],[0.1111111111111111,\"#46039f\"],[0.2222222222222222,\"#7201a8\"],[0.3333333333333333,\"#9c179e\"],[0.4444444444444444,\"#bd3786\"],[0.5555555555555556,\"#d8576b\"],[0.6666666666666666,\"#ed7953\"],[0.7777777777777778,\"#fb9f3a\"],[0.8888888888888888,\"#fdca26\"],[1.0,\"#f0f921\"]]}],\"choropleth\":[{\"type\":\"choropleth\",\"colorbar\":{\"outlinewidth\":0,\"ticks\":\"\"}}],\"histogram2d\":[{\"type\":\"histogram2d\",\"colorbar\":{\"outlinewidth\":0,\"ticks\":\"\"},\"colorscale\":[[0.0,\"#0d0887\"],[0.1111111111111111,\"#46039f\"],[0.2222222222222222,\"#7201a8\"],[0.3333333333333333,\"#9c179e\"],[0.4444444444444444,\"#bd3786\"],[0.5555555555555556,\"#d8576b\"],[0.6666666666666666,\"#ed7953\"],[0.7777777777777778,\"#fb9f3a\"],[0.8888888888888888,\"#fdca26\"],[1.0,\"#f0f921\"]]}],\"heatmap\":[{\"type\":\"heatmap\",\"colorbar\":{\"outlinewidth\":0,\"ticks\":\"\"},\"colorscale\":[[0.0,\"#0d0887\"],[0.1111111111111111,\"#46039f\"],[0.2222222222222222,\"#7201a8\"],[0.3333333333333333,\"#9c179e\"],[0.4444444444444444,\"#bd3786\"],[0.5555555555555556,\"#d8576b\"],[0.6666666666666666,\"#ed7953\"],[0.7777777777777778,\"#fb9f3a\"],[0.8888888888888888,\"#fdca26\"],[1.0,\"#f0f921\"]]}],\"heatmapgl\":[{\"type\":\"heatmapgl\",\"colorbar\":{\"outlinewidth\":0,\"ticks\":\"\"},\"colorscale\":[[0.0,\"#0d0887\"],[0.1111111111111111,\"#46039f\"],[0.2222222222222222,\"#7201a8\"],[0.3333333333333333,\"#9c179e\"],[0.4444444444444444,\"#bd3786\"],[0.5555555555555556,\"#d8576b\"],[0.6666666666666666,\"#ed7953\"],[0.7777777777777778,\"#fb9f3a\"],[0.8888888888888888,\"#fdca26\"],[1.0,\"#f0f921\"]]}],\"contourcarpet\":[{\"type\":\"contourcarpet\",\"colorbar\":{\"outlinewidth\":0,\"ticks\":\"\"}}],\"contour\":[{\"type\":\"contour\",\"colorbar\":{\"outlinewidth\":0,\"ticks\":\"\"},\"colorscale\":[[0.0,\"#0d0887\"],[0.1111111111111111,\"#46039f\"],[0.2222222222222222,\"#7201a8\"],[0.3333333333333333,\"#9c179e\"],[0.4444444444444444,\"#bd3786\"],[0.5555555555555556,\"#d8576b\"],[0.6666666666666666,\"#ed7953\"],[0.7777777777777778,\"#fb9f3a\"],[0.8888888888888888,\"#fdca26\"],[1.0,\"#f0f921\"]]}],\"surface\":[{\"type\":\"surface\",\"colorbar\":{\"outlinewidth\":0,\"ticks\":\"\"},\"colorscale\":[[0.0,\"#0d0887\"],[0.1111111111111111,\"#46039f\"],[0.2222222222222222,\"#7201a8\"],[0.3333333333333333,\"#9c179e\"],[0.4444444444444444,\"#bd3786\"],[0.5555555555555556,\"#d8576b\"],[0.6666666666666666,\"#ed7953\"],[0.7777777777777778,\"#fb9f3a\"],[0.8888888888888888,\"#fdca26\"],[1.0,\"#f0f921\"]]}],\"mesh3d\":[{\"type\":\"mesh3d\",\"colorbar\":{\"outlinewidth\":0,\"ticks\":\"\"}}],\"scatter\":[{\"fillpattern\":{\"fillmode\":\"overlay\",\"size\":10,\"solidity\":0.2},\"type\":\"scatter\"}],\"parcoords\":[{\"type\":\"parcoords\",\"line\":{\"colorbar\":{\"outlinewidth\":0,\"ticks\":\"\"}}}],\"scatterpolargl\":[{\"type\":\"scatterpolargl\",\"marker\":{\"colorbar\":{\"outlinewidth\":0,\"ticks\":\"\"}}}],\"bar\":[{\"error_x\":{\"color\":\"#2a3f5f\"},\"error_y\":{\"color\":\"#2a3f5f\"},\"marker\":{\"line\":{\"color\":\"#E5ECF6\",\"width\":0.5},\"pattern\":{\"fillmode\":\"overlay\",\"size\":10,\"solidity\":0.2}},\"type\":\"bar\"}],\"scattergeo\":[{\"type\":\"scattergeo\",\"marker\":{\"colorbar\":{\"outlinewidth\":0,\"ticks\":\"\"}}}],\"scatterpolar\":[{\"type\":\"scatterpolar\",\"marker\":{\"colorbar\":{\"outlinewidth\":0,\"ticks\":\"\"}}}],\"histogram\":[{\"marker\":{\"pattern\":{\"fillmode\":\"overlay\",\"size\":10,\"solidity\":0.2}},\"type\":\"histogram\"}],\"scattergl\":[{\"type\":\"scattergl\",\"marker\":{\"colorbar\":{\"outlinewidth\":0,\"ticks\":\"\"}}}],\"scatter3d\":[{\"type\":\"scatter3d\",\"line\":{\"colorbar\":{\"outlinewidth\":0,\"ticks\":\"\"}},\"marker\":{\"colorbar\":{\"outlinewidth\":0,\"ticks\":\"\"}}}],\"scattermapbox\":[{\"type\":\"scattermapbox\",\"marker\":{\"colorbar\":{\"outlinewidth\":0,\"ticks\":\"\"}}}],\"scatterternary\":[{\"type\":\"scatterternary\",\"marker\":{\"colorbar\":{\"outlinewidth\":0,\"ticks\":\"\"}}}],\"scattercarpet\":[{\"type\":\"scattercarpet\",\"marker\":{\"colorbar\":{\"outlinewidth\":0,\"ticks\":\"\"}}}],\"carpet\":[{\"aaxis\":{\"endlinecolor\":\"#2a3f5f\",\"gridcolor\":\"white\",\"linecolor\":\"white\",\"minorgridcolor\":\"white\",\"startlinecolor\":\"#2a3f5f\"},\"baxis\":{\"endlinecolor\":\"#2a3f5f\",\"gridcolor\":\"white\",\"linecolor\":\"white\",\"minorgridcolor\":\"white\",\"startlinecolor\":\"#2a3f5f\"},\"type\":\"carpet\"}],\"table\":[{\"cells\":{\"fill\":{\"color\":\"#EBF0F8\"},\"line\":{\"color\":\"white\"}},\"header\":{\"fill\":{\"color\":\"#C8D4E3\"},\"line\":{\"color\":\"white\"}},\"type\":\"table\"}],\"barpolar\":[{\"marker\":{\"line\":{\"color\":\"#E5ECF6\",\"width\":0.5},\"pattern\":{\"fillmode\":\"overlay\",\"size\":10,\"solidity\":0.2}},\"type\":\"barpolar\"}],\"pie\":[{\"automargin\":true,\"type\":\"pie\"}]},\"layout\":{\"autotypenumbers\":\"strict\",\"colorway\":[\"#636efa\",\"#EF553B\",\"#00cc96\",\"#ab63fa\",\"#FFA15A\",\"#19d3f3\",\"#FF6692\",\"#B6E880\",\"#FF97FF\",\"#FECB52\"],\"font\":{\"color\":\"#2a3f5f\"},\"hovermode\":\"closest\",\"hoverlabel\":{\"align\":\"left\"},\"paper_bgcolor\":\"white\",\"plot_bgcolor\":\"#E5ECF6\",\"polar\":{\"bgcolor\":\"#E5ECF6\",\"angularaxis\":{\"gridcolor\":\"white\",\"linecolor\":\"white\",\"ticks\":\"\"},\"radialaxis\":{\"gridcolor\":\"white\",\"linecolor\":\"white\",\"ticks\":\"\"}},\"ternary\":{\"bgcolor\":\"#E5ECF6\",\"aaxis\":{\"gridcolor\":\"white\",\"linecolor\":\"white\",\"ticks\":\"\"},\"baxis\":{\"gridcolor\":\"white\",\"linecolor\":\"white\",\"ticks\":\"\"},\"caxis\":{\"gridcolor\":\"white\",\"linecolor\":\"white\",\"ticks\":\"\"}},\"coloraxis\":{\"colorbar\":{\"outlinewidth\":0,\"ticks\":\"\"}},\"colorscale\":{\"sequential\":[[0.0,\"#0d0887\"],[0.1111111111111111,\"#46039f\"],[0.2222222222222222,\"#7201a8\"],[0.3333333333333333,\"#9c179e\"],[0.4444444444444444,\"#bd3786\"],[0.5555555555555556,\"#d8576b\"],[0.6666666666666666,\"#ed7953\"],[0.7777777777777778,\"#fb9f3a\"],[0.8888888888888888,\"#fdca26\"],[1.0,\"#f0f921\"]],\"sequentialminus\":[[0.0,\"#0d0887\"],[0.1111111111111111,\"#46039f\"],[0.2222222222222222,\"#7201a8\"],[0.3333333333333333,\"#9c179e\"],[0.4444444444444444,\"#bd3786\"],[0.5555555555555556,\"#d8576b\"],[0.6666666666666666,\"#ed7953\"],[0.7777777777777778,\"#fb9f3a\"],[0.8888888888888888,\"#fdca26\"],[1.0,\"#f0f921\"]],\"diverging\":[[0,\"#8e0152\"],[0.1,\"#c51b7d\"],[0.2,\"#de77ae\"],[0.3,\"#f1b6da\"],[0.4,\"#fde0ef\"],[0.5,\"#f7f7f7\"],[0.6,\"#e6f5d0\"],[0.7,\"#b8e186\"],[0.8,\"#7fbc41\"],[0.9,\"#4d9221\"],[1,\"#276419\"]]},\"xaxis\":{\"gridcolor\":\"white\",\"linecolor\":\"white\",\"ticks\":\"\",\"title\":{\"standoff\":15},\"zerolinecolor\":\"white\",\"automargin\":true,\"zerolinewidth\":2},\"yaxis\":{\"gridcolor\":\"white\",\"linecolor\":\"white\",\"ticks\":\"\",\"title\":{\"standoff\":15},\"zerolinecolor\":\"white\",\"automargin\":true,\"zerolinewidth\":2},\"scene\":{\"xaxis\":{\"backgroundcolor\":\"#E5ECF6\",\"gridcolor\":\"white\",\"linecolor\":\"white\",\"showbackground\":true,\"ticks\":\"\",\"zerolinecolor\":\"white\",\"gridwidth\":2},\"yaxis\":{\"backgroundcolor\":\"#E5ECF6\",\"gridcolor\":\"white\",\"linecolor\":\"white\",\"showbackground\":true,\"ticks\":\"\",\"zerolinecolor\":\"white\",\"gridwidth\":2},\"zaxis\":{\"backgroundcolor\":\"#E5ECF6\",\"gridcolor\":\"white\",\"linecolor\":\"white\",\"showbackground\":true,\"ticks\":\"\",\"zerolinecolor\":\"white\",\"gridwidth\":2}},\"shapedefaults\":{\"line\":{\"color\":\"#2a3f5f\"}},\"annotationdefaults\":{\"arrowcolor\":\"#2a3f5f\",\"arrowhead\":0,\"arrowwidth\":1},\"geo\":{\"bgcolor\":\"white\",\"landcolor\":\"#E5ECF6\",\"subunitcolor\":\"white\",\"showland\":true,\"showlakes\":true,\"lakecolor\":\"white\"},\"title\":{\"x\":0.05},\"mapbox\":{\"style\":\"light\"}}}},                        {\"responsive\": true}                    ).then(function(){\n",
       "                            \n",
       "var gd = document.getElementById('d5f0d844-9471-432e-b189-fa158b42d30b');\n",
       "var x = new MutationObserver(function (mutations, observer) {{\n",
       "        var display = window.getComputedStyle(gd).display;\n",
       "        if (!display || display === 'none') {{\n",
       "            console.log([gd, 'removed!']);\n",
       "            Plotly.purge(gd);\n",
       "            observer.disconnect();\n",
       "        }}\n",
       "}});\n",
       "\n",
       "// Listen for the removal of the full notebook cells\n",
       "var notebookContainer = gd.closest('#notebook-container');\n",
       "if (notebookContainer) {{\n",
       "    x.observe(notebookContainer, {childList: true});\n",
       "}}\n",
       "\n",
       "// Listen for the clearing of the current output cell\n",
       "var outputEl = gd.closest('.output');\n",
       "if (outputEl) {{\n",
       "    x.observe(outputEl, {childList: true});\n",
       "}}\n",
       "\n",
       "                        })                };                });            </script>        </div>"
      ]
     },
     "metadata": {},
     "output_type": "display_data"
    }
   ],
   "source": [
    "# candlestick graph\n",
    "fig = go.Figure(data=[go.Candlestick(x=stock_df.index,\n",
    "                open=stock_df['Open'],\n",
    "                high=stock_df['High'],\n",
    "                low=stock_df['Low'],\n",
    "                close=stock_df['Close'])])\n",
    "\n",
    "fig.show()"
   ]
  },
  {
   "cell_type": "markdown",
   "metadata": {},
   "source": [
    "This candlestick plot shows the trend of Amazon's stock price from December 2023 all the way to the most recent date Amazon's stock was traded. The hover feature shows the date, open, close, high, and low prices of a particular day. Additionally, based on the green and red color scheme, we can see when Amazon's stock price increased/decreased as well as the range it was traded at for the day. "
   ]
  }
 ],
 "metadata": {
  "kernelspec": {
   "display_name": "Python 3 (ipykernel)",
   "language": "python",
   "name": "python3"
  },
  "language_info": {
   "codemirror_mode": {
    "name": "ipython",
    "version": 3
   },
   "file_extension": ".py",
   "mimetype": "text/x-python",
   "name": "python",
   "nbconvert_exporter": "python",
   "pygments_lexer": "ipython3",
   "version": "3.10.13"
  }
 },
 "nbformat": 4,
 "nbformat_minor": 4
}
